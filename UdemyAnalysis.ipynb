{
 "cells": [
  {
   "cell_type": "markdown",
   "id": "0fcbca8a",
   "metadata": {},
   "source": [
    "# UDEMY PROJECT"
   ]
  },
  {
   "cell_type": "code",
   "execution_count": 1,
   "id": "9a9a7f2b",
   "metadata": {},
   "outputs": [],
   "source": [
    "import numpy as np\n",
    "import pandas as pd\n",
    "import matplotlib.pyplot as plt\n",
    "import seaborn as sns\n",
    "import plotly.express as px\n",
    "import plotly.io as pio"
   ]
  },
  {
   "cell_type": "code",
   "execution_count": 2,
   "id": "e36349ae",
   "metadata": {},
   "outputs": [],
   "source": [
    "df = pd.read_csv('udemy_courses-raw.csv')"
   ]
  },
  {
   "cell_type": "code",
   "execution_count": 3,
   "id": "796f0127",
   "metadata": {},
   "outputs": [
    {
     "data": {
      "text/html": [
       "<div>\n",
       "<style scoped>\n",
       "    .dataframe tbody tr th:only-of-type {\n",
       "        vertical-align: middle;\n",
       "    }\n",
       "\n",
       "    .dataframe tbody tr th {\n",
       "        vertical-align: top;\n",
       "    }\n",
       "\n",
       "    .dataframe thead th {\n",
       "        text-align: right;\n",
       "    }\n",
       "</style>\n",
       "<table border=\"1\" class=\"dataframe\">\n",
       "  <thead>\n",
       "    <tr style=\"text-align: right;\">\n",
       "      <th></th>\n",
       "      <th>course_id</th>\n",
       "      <th>course_title</th>\n",
       "      <th>url</th>\n",
       "      <th>is_paid</th>\n",
       "      <th>price</th>\n",
       "      <th>num_subscribers</th>\n",
       "      <th>num_reviews</th>\n",
       "      <th>num_lectures</th>\n",
       "      <th>level</th>\n",
       "      <th>content_duration</th>\n",
       "      <th>published_timestamp</th>\n",
       "      <th>subject</th>\n",
       "    </tr>\n",
       "  </thead>\n",
       "  <tbody>\n",
       "    <tr>\n",
       "      <th>0</th>\n",
       "      <td>1070968</td>\n",
       "      <td>Ultimate Investment Banking Course</td>\n",
       "      <td>https://www.udemy.com/ultimate-investment-bank...</td>\n",
       "      <td>True</td>\n",
       "      <td>200</td>\n",
       "      <td>2147</td>\n",
       "      <td>23</td>\n",
       "      <td>51</td>\n",
       "      <td>All Levels</td>\n",
       "      <td>1.5</td>\n",
       "      <td>2017-01-18T20:58:58Z</td>\n",
       "      <td>Business Finance</td>\n",
       "    </tr>\n",
       "    <tr>\n",
       "      <th>1</th>\n",
       "      <td>1113822</td>\n",
       "      <td>Complete GST Course &amp; Certification - Grow You...</td>\n",
       "      <td>https://www.udemy.com/goods-and-services-tax/</td>\n",
       "      <td>True</td>\n",
       "      <td>75</td>\n",
       "      <td>2792</td>\n",
       "      <td>923</td>\n",
       "      <td>274</td>\n",
       "      <td>All Levels</td>\n",
       "      <td>39.0</td>\n",
       "      <td>2017-03-09T16:34:20Z</td>\n",
       "      <td>Business Finance</td>\n",
       "    </tr>\n",
       "  </tbody>\n",
       "</table>\n",
       "</div>"
      ],
      "text/plain": [
       "   course_id                                       course_title  \\\n",
       "0    1070968                 Ultimate Investment Banking Course   \n",
       "1    1113822  Complete GST Course & Certification - Grow You...   \n",
       "\n",
       "                                                 url  is_paid  price  \\\n",
       "0  https://www.udemy.com/ultimate-investment-bank...     True    200   \n",
       "1      https://www.udemy.com/goods-and-services-tax/     True     75   \n",
       "\n",
       "   num_subscribers  num_reviews  num_lectures       level  content_duration  \\\n",
       "0             2147           23            51  All Levels               1.5   \n",
       "1             2792          923           274  All Levels              39.0   \n",
       "\n",
       "    published_timestamp           subject  \n",
       "0  2017-01-18T20:58:58Z  Business Finance  \n",
       "1  2017-03-09T16:34:20Z  Business Finance  "
      ]
     },
     "execution_count": 3,
     "metadata": {},
     "output_type": "execute_result"
    }
   ],
   "source": [
    "df.head(2)"
   ]
  },
  {
   "cell_type": "code",
   "execution_count": 4,
   "id": "b400ea40",
   "metadata": {},
   "outputs": [
    {
     "data": {
      "text/html": [
       "<div>\n",
       "<style scoped>\n",
       "    .dataframe tbody tr th:only-of-type {\n",
       "        vertical-align: middle;\n",
       "    }\n",
       "\n",
       "    .dataframe tbody tr th {\n",
       "        vertical-align: top;\n",
       "    }\n",
       "\n",
       "    .dataframe thead th {\n",
       "        text-align: right;\n",
       "    }\n",
       "</style>\n",
       "<table border=\"1\" class=\"dataframe\">\n",
       "  <thead>\n",
       "    <tr style=\"text-align: right;\">\n",
       "      <th></th>\n",
       "      <th>course_id</th>\n",
       "      <th>course_title</th>\n",
       "      <th>url</th>\n",
       "      <th>is_paid</th>\n",
       "      <th>price</th>\n",
       "      <th>num_subscribers</th>\n",
       "      <th>num_reviews</th>\n",
       "      <th>num_lectures</th>\n",
       "      <th>level</th>\n",
       "      <th>content_duration</th>\n",
       "      <th>published_timestamp</th>\n",
       "      <th>subject</th>\n",
       "    </tr>\n",
       "  </thead>\n",
       "  <tbody>\n",
       "    <tr>\n",
       "      <th>1016</th>\n",
       "      <td>614668</td>\n",
       "      <td>8 Steps To Achieve Financial Freedom And Escap...</td>\n",
       "      <td>https://www.udemy.com/achieve-financial-freedo...</td>\n",
       "      <td>True</td>\n",
       "      <td>40</td>\n",
       "      <td>5</td>\n",
       "      <td>0</td>\n",
       "      <td>48</td>\n",
       "      <td>Beginner Level</td>\n",
       "      <td>5.5</td>\n",
       "      <td>2015-11-13T17:43:47Z</td>\n",
       "      <td>Business Finance</td>\n",
       "    </tr>\n",
       "    <tr>\n",
       "      <th>821</th>\n",
       "      <td>721746</td>\n",
       "      <td>Forex Trading Plan</td>\n",
       "      <td>https://www.udemy.com/forex-trading-plan/</td>\n",
       "      <td>True</td>\n",
       "      <td>50</td>\n",
       "      <td>21</td>\n",
       "      <td>3</td>\n",
       "      <td>24</td>\n",
       "      <td>All Levels</td>\n",
       "      <td>0.7</td>\n",
       "      <td>2016-02-13T05:53:11Z</td>\n",
       "      <td>Business Finance</td>\n",
       "    </tr>\n",
       "  </tbody>\n",
       "</table>\n",
       "</div>"
      ],
      "text/plain": [
       "      course_id                                       course_title  \\\n",
       "1016     614668  8 Steps To Achieve Financial Freedom And Escap...   \n",
       "821      721746                                 Forex Trading Plan   \n",
       "\n",
       "                                                    url  is_paid  price  \\\n",
       "1016  https://www.udemy.com/achieve-financial-freedo...     True     40   \n",
       "821           https://www.udemy.com/forex-trading-plan/     True     50   \n",
       "\n",
       "      num_subscribers  num_reviews  num_lectures           level  \\\n",
       "1016                5            0            48  Beginner Level   \n",
       "821                21            3            24      All Levels   \n",
       "\n",
       "      content_duration   published_timestamp           subject  \n",
       "1016               5.5  2015-11-13T17:43:47Z  Business Finance  \n",
       "821                0.7  2016-02-13T05:53:11Z  Business Finance  "
      ]
     },
     "execution_count": 4,
     "metadata": {},
     "output_type": "execute_result"
    }
   ],
   "source": [
    "df.sample(2)"
   ]
  },
  {
   "cell_type": "code",
   "execution_count": 5,
   "id": "75f885aa",
   "metadata": {},
   "outputs": [
    {
     "name": "stdout",
     "output_type": "stream",
     "text": [
      "<class 'pandas.core.frame.DataFrame'>\n",
      "RangeIndex: 3678 entries, 0 to 3677\n",
      "Data columns (total 12 columns):\n",
      " #   Column               Non-Null Count  Dtype  \n",
      "---  ------               --------------  -----  \n",
      " 0   course_id            3678 non-null   int64  \n",
      " 1   course_title         3678 non-null   object \n",
      " 2   url                  3678 non-null   object \n",
      " 3   is_paid              3678 non-null   bool   \n",
      " 4   price                3678 non-null   int64  \n",
      " 5   num_subscribers      3678 non-null   int64  \n",
      " 6   num_reviews          3678 non-null   int64  \n",
      " 7   num_lectures         3678 non-null   int64  \n",
      " 8   level                3678 non-null   object \n",
      " 9   content_duration     3678 non-null   float64\n",
      " 10  published_timestamp  3678 non-null   object \n",
      " 11  subject              3678 non-null   object \n",
      "dtypes: bool(1), float64(1), int64(5), object(5)\n",
      "memory usage: 319.8+ KB\n"
     ]
    }
   ],
   "source": [
    "df.info()"
   ]
  },
  {
   "cell_type": "code",
   "execution_count": 6,
   "id": "5df16d52",
   "metadata": {},
   "outputs": [
    {
     "data": {
      "text/html": [
       "<div>\n",
       "<style scoped>\n",
       "    .dataframe tbody tr th:only-of-type {\n",
       "        vertical-align: middle;\n",
       "    }\n",
       "\n",
       "    .dataframe tbody tr th {\n",
       "        vertical-align: top;\n",
       "    }\n",
       "\n",
       "    .dataframe thead th {\n",
       "        text-align: right;\n",
       "    }\n",
       "</style>\n",
       "<table border=\"1\" class=\"dataframe\">\n",
       "  <thead>\n",
       "    <tr style=\"text-align: right;\">\n",
       "      <th></th>\n",
       "      <th>course_id</th>\n",
       "      <th>price</th>\n",
       "      <th>num_subscribers</th>\n",
       "      <th>num_reviews</th>\n",
       "      <th>num_lectures</th>\n",
       "      <th>content_duration</th>\n",
       "    </tr>\n",
       "  </thead>\n",
       "  <tbody>\n",
       "    <tr>\n",
       "      <th>count</th>\n",
       "      <td>3.678000e+03</td>\n",
       "      <td>3678.000000</td>\n",
       "      <td>3678.000000</td>\n",
       "      <td>3678.000000</td>\n",
       "      <td>3678.000000</td>\n",
       "      <td>3678.000000</td>\n",
       "    </tr>\n",
       "    <tr>\n",
       "      <th>mean</th>\n",
       "      <td>6.759720e+05</td>\n",
       "      <td>66.049483</td>\n",
       "      <td>3197.150625</td>\n",
       "      <td>156.259108</td>\n",
       "      <td>40.108755</td>\n",
       "      <td>4.094517</td>\n",
       "    </tr>\n",
       "    <tr>\n",
       "      <th>std</th>\n",
       "      <td>3.432732e+05</td>\n",
       "      <td>61.005755</td>\n",
       "      <td>9504.117010</td>\n",
       "      <td>935.452044</td>\n",
       "      <td>50.383346</td>\n",
       "      <td>6.053840</td>\n",
       "    </tr>\n",
       "    <tr>\n",
       "      <th>min</th>\n",
       "      <td>8.324000e+03</td>\n",
       "      <td>0.000000</td>\n",
       "      <td>0.000000</td>\n",
       "      <td>0.000000</td>\n",
       "      <td>0.000000</td>\n",
       "      <td>0.000000</td>\n",
       "    </tr>\n",
       "    <tr>\n",
       "      <th>25%</th>\n",
       "      <td>4.076925e+05</td>\n",
       "      <td>20.000000</td>\n",
       "      <td>111.000000</td>\n",
       "      <td>4.000000</td>\n",
       "      <td>15.000000</td>\n",
       "      <td>1.000000</td>\n",
       "    </tr>\n",
       "    <tr>\n",
       "      <th>50%</th>\n",
       "      <td>6.879170e+05</td>\n",
       "      <td>45.000000</td>\n",
       "      <td>911.500000</td>\n",
       "      <td>18.000000</td>\n",
       "      <td>25.000000</td>\n",
       "      <td>2.000000</td>\n",
       "    </tr>\n",
       "    <tr>\n",
       "      <th>75%</th>\n",
       "      <td>9.613555e+05</td>\n",
       "      <td>95.000000</td>\n",
       "      <td>2546.000000</td>\n",
       "      <td>67.000000</td>\n",
       "      <td>45.750000</td>\n",
       "      <td>4.500000</td>\n",
       "    </tr>\n",
       "    <tr>\n",
       "      <th>max</th>\n",
       "      <td>1.282064e+06</td>\n",
       "      <td>200.000000</td>\n",
       "      <td>268923.000000</td>\n",
       "      <td>27445.000000</td>\n",
       "      <td>779.000000</td>\n",
       "      <td>78.500000</td>\n",
       "    </tr>\n",
       "  </tbody>\n",
       "</table>\n",
       "</div>"
      ],
      "text/plain": [
       "          course_id        price  num_subscribers   num_reviews  num_lectures  \\\n",
       "count  3.678000e+03  3678.000000      3678.000000   3678.000000   3678.000000   \n",
       "mean   6.759720e+05    66.049483      3197.150625    156.259108     40.108755   \n",
       "std    3.432732e+05    61.005755      9504.117010    935.452044     50.383346   \n",
       "min    8.324000e+03     0.000000         0.000000      0.000000      0.000000   \n",
       "25%    4.076925e+05    20.000000       111.000000      4.000000     15.000000   \n",
       "50%    6.879170e+05    45.000000       911.500000     18.000000     25.000000   \n",
       "75%    9.613555e+05    95.000000      2546.000000     67.000000     45.750000   \n",
       "max    1.282064e+06   200.000000    268923.000000  27445.000000    779.000000   \n",
       "\n",
       "       content_duration  \n",
       "count       3678.000000  \n",
       "mean           4.094517  \n",
       "std            6.053840  \n",
       "min            0.000000  \n",
       "25%            1.000000  \n",
       "50%            2.000000  \n",
       "75%            4.500000  \n",
       "max           78.500000  "
      ]
     },
     "execution_count": 6,
     "metadata": {},
     "output_type": "execute_result"
    }
   ],
   "source": [
    "df.describe()"
   ]
  },
  {
   "cell_type": "markdown",
   "id": "70c04ab8",
   "metadata": {},
   "source": [
    "## Data Processing"
   ]
  },
  {
   "cell_type": "markdown",
   "id": "7f823ad0",
   "metadata": {},
   "source": [
    "Categorical_Data"
   ]
  },
  {
   "cell_type": "code",
   "execution_count": 7,
   "id": "0e0f2969",
   "metadata": {},
   "outputs": [
    {
     "data": {
      "text/plain": [
       "subject\n",
       "Web Development        1200\n",
       "Business Finance       1195\n",
       "Musical Instruments     680\n",
       "Graphic Design          603\n",
       "Name: count, dtype: int64"
      ]
     },
     "execution_count": 7,
     "metadata": {},
     "output_type": "execute_result"
    }
   ],
   "source": [
    "df['subject'].value_counts()"
   ]
  },
  {
   "cell_type": "code",
   "execution_count": 8,
   "id": "8ddd67fa",
   "metadata": {},
   "outputs": [
    {
     "data": {
      "text/plain": [
       "level\n",
       "All Levels            1929\n",
       "Beginner Level        1270\n",
       "Intermediate Level     421\n",
       "Expert Level            58\n",
       "Name: count, dtype: int64"
      ]
     },
     "execution_count": 8,
     "metadata": {},
     "output_type": "execute_result"
    }
   ],
   "source": [
    "df['level'].value_counts()"
   ]
  },
  {
   "cell_type": "code",
   "execution_count": 9,
   "id": "9481fa89",
   "metadata": {},
   "outputs": [
    {
     "data": {
      "text/plain": [
       "is_paid\n",
       "True     3368\n",
       "False     310\n",
       "Name: count, dtype: int64"
      ]
     },
     "execution_count": 9,
     "metadata": {},
     "output_type": "execute_result"
    }
   ],
   "source": [
    "df['is_paid'].value_counts()"
   ]
  },
  {
   "cell_type": "markdown",
   "id": "50384faf",
   "metadata": {},
   "source": [
    "Parsing timestamp"
   ]
  },
  {
   "cell_type": "code",
   "execution_count": 10,
   "id": "91f2c163",
   "metadata": {},
   "outputs": [
    {
     "data": {
      "text/plain": [
       "0       2017-01-18T20:58:58Z\n",
       "1       2017-03-09T16:34:20Z\n",
       "2       2016-12-19T19:26:30Z\n",
       "3       2017-05-30T20:07:24Z\n",
       "4       2016-12-13T14:57:18Z\n",
       "                ...         \n",
       "3673    2016-06-14T17:36:46Z\n",
       "3674    2017-03-10T22:24:30Z\n",
       "3675    2015-12-30T16:41:42Z\n",
       "3676    2016-08-11T19:06:15Z\n",
       "3677    2014-09-28T19:51:11Z\n",
       "Name: published_timestamp, Length: 3678, dtype: object"
      ]
     },
     "execution_count": 10,
     "metadata": {},
     "output_type": "execute_result"
    }
   ],
   "source": [
    "df['published_timestamp']"
   ]
  },
  {
   "cell_type": "markdown",
   "id": "b2334b19",
   "metadata": {},
   "source": [
    "Method helps to convert string Date time into Python Date time object."
   ]
  },
  {
   "cell_type": "code",
   "execution_count": 11,
   "id": "10575967",
   "metadata": {},
   "outputs": [
    {
     "data": {
      "text/plain": [
       "0      2017-01-18 20:58:58+00:00\n",
       "1      2017-03-09 16:34:20+00:00\n",
       "2      2016-12-19 19:26:30+00:00\n",
       "3      2017-05-30 20:07:24+00:00\n",
       "4      2016-12-13 14:57:18+00:00\n",
       "                  ...           \n",
       "3673   2016-06-14 17:36:46+00:00\n",
       "3674   2017-03-10 22:24:30+00:00\n",
       "3675   2015-12-30 16:41:42+00:00\n",
       "3676   2016-08-11 19:06:15+00:00\n",
       "3677   2014-09-28 19:51:11+00:00\n",
       "Name: published_timestamp, Length: 3678, dtype: datetime64[ns, UTC]"
      ]
     },
     "execution_count": 11,
     "metadata": {},
     "output_type": "execute_result"
    }
   ],
   "source": [
    "pd.to_datetime(df['published_timestamp'])"
   ]
  },
  {
   "cell_type": "code",
   "execution_count": 12,
   "id": "d5682542",
   "metadata": {},
   "outputs": [
    {
     "data": {
      "text/plain": [
       "course_id                int64\n",
       "course_title            object\n",
       "url                     object\n",
       "is_paid                   bool\n",
       "price                    int64\n",
       "num_subscribers          int64\n",
       "num_reviews              int64\n",
       "num_lectures             int64\n",
       "level                   object\n",
       "content_duration       float64\n",
       "published_timestamp     object\n",
       "subject                 object\n",
       "dtype: object"
      ]
     },
     "execution_count": 12,
     "metadata": {},
     "output_type": "execute_result"
    }
   ],
   "source": [
    "df.dtypes"
   ]
  },
  {
   "cell_type": "markdown",
   "id": "08be3dd7",
   "metadata": {},
   "source": [
    "to save the new parsed value"
   ]
  },
  {
   "cell_type": "code",
   "execution_count": 13,
   "id": "8c68108c",
   "metadata": {},
   "outputs": [],
   "source": [
    "df['published_timestamp'] = pd.to_datetime(df['published_timestamp'])"
   ]
  },
  {
   "cell_type": "code",
   "execution_count": 14,
   "id": "ed282539",
   "metadata": {},
   "outputs": [
    {
     "data": {
      "text/plain": [
       "course_id                            int64\n",
       "course_title                        object\n",
       "url                                 object\n",
       "is_paid                               bool\n",
       "price                                int64\n",
       "num_subscribers                      int64\n",
       "num_reviews                          int64\n",
       "num_lectures                         int64\n",
       "level                               object\n",
       "content_duration                   float64\n",
       "published_timestamp    datetime64[ns, UTC]\n",
       "subject                             object\n",
       "dtype: object"
      ]
     },
     "execution_count": 14,
     "metadata": {},
     "output_type": "execute_result"
    }
   ],
   "source": [
    "df.dtypes"
   ]
  },
  {
   "cell_type": "markdown",
   "id": "46ecc465",
   "metadata": {},
   "source": [
    "Creating 3 new time columns for future use.."
   ]
  },
  {
   "cell_type": "code",
   "execution_count": 15,
   "id": "28b48c02",
   "metadata": {},
   "outputs": [],
   "source": [
    "df['Year'] = df['published_timestamp'].dt.year"
   ]
  },
  {
   "cell_type": "code",
   "execution_count": 16,
   "id": "fa8724f7",
   "metadata": {},
   "outputs": [],
   "source": [
    "df['Month'] = df['published_timestamp'].dt.month_name()"
   ]
  },
  {
   "cell_type": "code",
   "execution_count": 17,
   "id": "2d5c0a3a",
   "metadata": {},
   "outputs": [],
   "source": [
    "df['Day'] = df['published_timestamp'].dt.day_name()"
   ]
  },
  {
   "cell_type": "code",
   "execution_count": 18,
   "id": "dda7e7cd",
   "metadata": {},
   "outputs": [],
   "source": [
    "df['Quarter'] = df['published_timestamp'].dt.quarter"
   ]
  },
  {
   "cell_type": "markdown",
   "id": "cf6d278a",
   "metadata": {},
   "source": [
    "To view the added columns..."
   ]
  },
  {
   "cell_type": "code",
   "execution_count": 19,
   "id": "66217a5f",
   "metadata": {},
   "outputs": [
    {
     "data": {
      "text/html": [
       "<div>\n",
       "<style scoped>\n",
       "    .dataframe tbody tr th:only-of-type {\n",
       "        vertical-align: middle;\n",
       "    }\n",
       "\n",
       "    .dataframe tbody tr th {\n",
       "        vertical-align: top;\n",
       "    }\n",
       "\n",
       "    .dataframe thead th {\n",
       "        text-align: right;\n",
       "    }\n",
       "</style>\n",
       "<table border=\"1\" class=\"dataframe\">\n",
       "  <thead>\n",
       "    <tr style=\"text-align: right;\">\n",
       "      <th></th>\n",
       "      <th>course_id</th>\n",
       "      <th>course_title</th>\n",
       "      <th>url</th>\n",
       "      <th>is_paid</th>\n",
       "      <th>price</th>\n",
       "      <th>num_subscribers</th>\n",
       "      <th>num_reviews</th>\n",
       "      <th>num_lectures</th>\n",
       "      <th>level</th>\n",
       "      <th>content_duration</th>\n",
       "      <th>published_timestamp</th>\n",
       "      <th>subject</th>\n",
       "      <th>Year</th>\n",
       "      <th>Month</th>\n",
       "      <th>Day</th>\n",
       "      <th>Quarter</th>\n",
       "    </tr>\n",
       "  </thead>\n",
       "  <tbody>\n",
       "    <tr>\n",
       "      <th>2650</th>\n",
       "      <td>763774</td>\n",
       "      <td>JavaScript Game Development: Create Your Own B...</td>\n",
       "      <td>https://www.udemy.com/javascript-game-developm...</td>\n",
       "      <td>False</td>\n",
       "      <td>0</td>\n",
       "      <td>10179</td>\n",
       "      <td>314</td>\n",
       "      <td>21</td>\n",
       "      <td>All Levels</td>\n",
       "      <td>1.5</td>\n",
       "      <td>2016-09-26 23:44:51+00:00</td>\n",
       "      <td>Web Development</td>\n",
       "      <td>2016</td>\n",
       "      <td>September</td>\n",
       "      <td>Monday</td>\n",
       "      <td>3</td>\n",
       "    </tr>\n",
       "  </tbody>\n",
       "</table>\n",
       "</div>"
      ],
      "text/plain": [
       "      course_id                                       course_title  \\\n",
       "2650     763774  JavaScript Game Development: Create Your Own B...   \n",
       "\n",
       "                                                    url  is_paid  price  \\\n",
       "2650  https://www.udemy.com/javascript-game-developm...    False      0   \n",
       "\n",
       "      num_subscribers  num_reviews  num_lectures       level  \\\n",
       "2650            10179          314            21  All Levels   \n",
       "\n",
       "      content_duration       published_timestamp          subject  Year  \\\n",
       "2650               1.5 2016-09-26 23:44:51+00:00  Web Development  2016   \n",
       "\n",
       "          Month     Day  Quarter  \n",
       "2650  September  Monday        3  "
      ]
     },
     "execution_count": 19,
     "metadata": {},
     "output_type": "execute_result"
    }
   ],
   "source": [
    "df.sample()"
   ]
  },
  {
   "cell_type": "markdown",
   "id": "a1ab48a2",
   "metadata": {},
   "source": [
    "We will be setting the Index with respect to timestamp for better DATA_VISUALIZATION\n"
   ]
  },
  {
   "cell_type": "code",
   "execution_count": 20,
   "id": "e5ed92a8",
   "metadata": {},
   "outputs": [],
   "source": [
    "df.set_index(df['published_timestamp'], inplace = True)"
   ]
  },
  {
   "cell_type": "code",
   "execution_count": 21,
   "id": "85bb2267",
   "metadata": {},
   "outputs": [
    {
     "data": {
      "text/html": [
       "<div>\n",
       "<style scoped>\n",
       "    .dataframe tbody tr th:only-of-type {\n",
       "        vertical-align: middle;\n",
       "    }\n",
       "\n",
       "    .dataframe tbody tr th {\n",
       "        vertical-align: top;\n",
       "    }\n",
       "\n",
       "    .dataframe thead th {\n",
       "        text-align: right;\n",
       "    }\n",
       "</style>\n",
       "<table border=\"1\" class=\"dataframe\">\n",
       "  <thead>\n",
       "    <tr style=\"text-align: right;\">\n",
       "      <th></th>\n",
       "      <th>course_id</th>\n",
       "      <th>course_title</th>\n",
       "      <th>url</th>\n",
       "      <th>is_paid</th>\n",
       "      <th>price</th>\n",
       "      <th>num_subscribers</th>\n",
       "      <th>num_reviews</th>\n",
       "      <th>num_lectures</th>\n",
       "      <th>level</th>\n",
       "      <th>content_duration</th>\n",
       "      <th>published_timestamp</th>\n",
       "      <th>subject</th>\n",
       "      <th>Year</th>\n",
       "      <th>Month</th>\n",
       "      <th>Day</th>\n",
       "      <th>Quarter</th>\n",
       "    </tr>\n",
       "    <tr>\n",
       "      <th>published_timestamp</th>\n",
       "      <th></th>\n",
       "      <th></th>\n",
       "      <th></th>\n",
       "      <th></th>\n",
       "      <th></th>\n",
       "      <th></th>\n",
       "      <th></th>\n",
       "      <th></th>\n",
       "      <th></th>\n",
       "      <th></th>\n",
       "      <th></th>\n",
       "      <th></th>\n",
       "      <th></th>\n",
       "      <th></th>\n",
       "      <th></th>\n",
       "      <th></th>\n",
       "    </tr>\n",
       "  </thead>\n",
       "  <tbody>\n",
       "    <tr>\n",
       "      <th>2013-11-11 00:28:17+00:00</th>\n",
       "      <td>101864</td>\n",
       "      <td>Programming for Entrepreneurs - JavaScript</td>\n",
       "      <td>https://www.udemy.com/javascript-tutorial/</td>\n",
       "      <td>True</td>\n",
       "      <td>200</td>\n",
       "      <td>12873</td>\n",
       "      <td>106</td>\n",
       "      <td>38</td>\n",
       "      <td>Beginner Level</td>\n",
       "      <td>2.5</td>\n",
       "      <td>2013-11-11 00:28:17+00:00</td>\n",
       "      <td>Web Development</td>\n",
       "      <td>2013</td>\n",
       "      <td>November</td>\n",
       "      <td>Monday</td>\n",
       "      <td>4</td>\n",
       "    </tr>\n",
       "  </tbody>\n",
       "</table>\n",
       "</div>"
      ],
      "text/plain": [
       "                           course_id  \\\n",
       "published_timestamp                    \n",
       "2013-11-11 00:28:17+00:00     101864   \n",
       "\n",
       "                                                         course_title  \\\n",
       "published_timestamp                                                     \n",
       "2013-11-11 00:28:17+00:00  Programming for Entrepreneurs - JavaScript   \n",
       "\n",
       "                                                                  url  \\\n",
       "published_timestamp                                                     \n",
       "2013-11-11 00:28:17+00:00  https://www.udemy.com/javascript-tutorial/   \n",
       "\n",
       "                           is_paid  price  num_subscribers  num_reviews  \\\n",
       "published_timestamp                                                       \n",
       "2013-11-11 00:28:17+00:00     True    200            12873          106   \n",
       "\n",
       "                           num_lectures           level  content_duration  \\\n",
       "published_timestamp                                                         \n",
       "2013-11-11 00:28:17+00:00            38  Beginner Level               2.5   \n",
       "\n",
       "                                published_timestamp          subject  Year  \\\n",
       "published_timestamp                                                          \n",
       "2013-11-11 00:28:17+00:00 2013-11-11 00:28:17+00:00  Web Development  2013   \n",
       "\n",
       "                              Month     Day  Quarter  \n",
       "published_timestamp                                   \n",
       "2013-11-11 00:28:17+00:00  November  Monday        4  "
      ]
     },
     "execution_count": 21,
     "metadata": {},
     "output_type": "execute_result"
    }
   ],
   "source": [
    "df.sample()"
   ]
  },
  {
   "cell_type": "markdown",
   "id": "bf9fb8b1",
   "metadata": {},
   "source": [
    "We will add a new column 'Profit'"
   ]
  },
  {
   "cell_type": "code",
   "execution_count": 22,
   "id": "5c2de113",
   "metadata": {},
   "outputs": [],
   "source": [
    "df['Profit'] = df['price'] * df['num_subscribers']"
   ]
  },
  {
   "cell_type": "code",
   "execution_count": 23,
   "id": "f8dceb5f",
   "metadata": {},
   "outputs": [
    {
     "data": {
      "text/html": [
       "<div>\n",
       "<style scoped>\n",
       "    .dataframe tbody tr th:only-of-type {\n",
       "        vertical-align: middle;\n",
       "    }\n",
       "\n",
       "    .dataframe tbody tr th {\n",
       "        vertical-align: top;\n",
       "    }\n",
       "\n",
       "    .dataframe thead th {\n",
       "        text-align: right;\n",
       "    }\n",
       "</style>\n",
       "<table border=\"1\" class=\"dataframe\">\n",
       "  <thead>\n",
       "    <tr style=\"text-align: right;\">\n",
       "      <th></th>\n",
       "      <th>course_id</th>\n",
       "      <th>course_title</th>\n",
       "      <th>url</th>\n",
       "      <th>is_paid</th>\n",
       "      <th>price</th>\n",
       "      <th>num_subscribers</th>\n",
       "      <th>num_reviews</th>\n",
       "      <th>num_lectures</th>\n",
       "      <th>level</th>\n",
       "      <th>content_duration</th>\n",
       "      <th>published_timestamp</th>\n",
       "      <th>subject</th>\n",
       "      <th>Year</th>\n",
       "      <th>Month</th>\n",
       "      <th>Day</th>\n",
       "      <th>Quarter</th>\n",
       "      <th>Profit</th>\n",
       "    </tr>\n",
       "    <tr>\n",
       "      <th>published_timestamp</th>\n",
       "      <th></th>\n",
       "      <th></th>\n",
       "      <th></th>\n",
       "      <th></th>\n",
       "      <th></th>\n",
       "      <th></th>\n",
       "      <th></th>\n",
       "      <th></th>\n",
       "      <th></th>\n",
       "      <th></th>\n",
       "      <th></th>\n",
       "      <th></th>\n",
       "      <th></th>\n",
       "      <th></th>\n",
       "      <th></th>\n",
       "      <th></th>\n",
       "      <th></th>\n",
       "    </tr>\n",
       "  </thead>\n",
       "  <tbody>\n",
       "    <tr>\n",
       "      <th>2017-01-26 22:55:27+00:00</th>\n",
       "      <td>1085580</td>\n",
       "      <td>RSI, Options Trading &amp; Technical Analysis (3 C...</td>\n",
       "      <td>https://www.udemy.com/charting-rsi-options-sto...</td>\n",
       "      <td>True</td>\n",
       "      <td>200</td>\n",
       "      <td>1047</td>\n",
       "      <td>9</td>\n",
       "      <td>46</td>\n",
       "      <td>All Levels</td>\n",
       "      <td>3.5</td>\n",
       "      <td>2017-01-26 22:55:27+00:00</td>\n",
       "      <td>Business Finance</td>\n",
       "      <td>2017</td>\n",
       "      <td>January</td>\n",
       "      <td>Thursday</td>\n",
       "      <td>1</td>\n",
       "      <td>209400</td>\n",
       "    </tr>\n",
       "  </tbody>\n",
       "</table>\n",
       "</div>"
      ],
      "text/plain": [
       "                           course_id  \\\n",
       "published_timestamp                    \n",
       "2017-01-26 22:55:27+00:00    1085580   \n",
       "\n",
       "                                                                course_title  \\\n",
       "published_timestamp                                                            \n",
       "2017-01-26 22:55:27+00:00  RSI, Options Trading & Technical Analysis (3 C...   \n",
       "\n",
       "                                                                         url  \\\n",
       "published_timestamp                                                            \n",
       "2017-01-26 22:55:27+00:00  https://www.udemy.com/charting-rsi-options-sto...   \n",
       "\n",
       "                           is_paid  price  num_subscribers  num_reviews  \\\n",
       "published_timestamp                                                       \n",
       "2017-01-26 22:55:27+00:00     True    200             1047            9   \n",
       "\n",
       "                           num_lectures       level  content_duration  \\\n",
       "published_timestamp                                                     \n",
       "2017-01-26 22:55:27+00:00            46  All Levels               3.5   \n",
       "\n",
       "                                published_timestamp           subject  Year  \\\n",
       "published_timestamp                                                           \n",
       "2017-01-26 22:55:27+00:00 2017-01-26 22:55:27+00:00  Business Finance  2017   \n",
       "\n",
       "                             Month       Day  Quarter  Profit  \n",
       "published_timestamp                                            \n",
       "2017-01-26 22:55:27+00:00  January  Thursday        1  209400  "
      ]
     },
     "execution_count": 23,
     "metadata": {},
     "output_type": "execute_result"
    }
   ],
   "source": [
    "df.sample()"
   ]
  },
  {
   "cell_type": "markdown",
   "id": "36bce3c8",
   "metadata": {},
   "source": [
    "Checking for the Duplicated values in the UNIQUE Course ID "
   ]
  },
  {
   "cell_type": "code",
   "execution_count": 24,
   "id": "668bd453",
   "metadata": {},
   "outputs": [
    {
     "data": {
      "text/plain": [
       "3672"
      ]
     },
     "execution_count": 24,
     "metadata": {},
     "output_type": "execute_result"
    }
   ],
   "source": [
    "df['course_id'].nunique()"
   ]
  },
  {
   "cell_type": "markdown",
   "id": "a809b0b9",
   "metadata": {},
   "source": [
    "By comparing 3672 and the total values found in the data_set (3678) we will find 6 Duplicated Course_id,\n",
    "So the next step is detecting the duplicated values"
   ]
  },
  {
   "cell_type": "code",
   "execution_count": 25,
   "id": "52d7c130",
   "metadata": {},
   "outputs": [
    {
     "data": {
      "text/html": [
       "<div>\n",
       "<style scoped>\n",
       "    .dataframe tbody tr th:only-of-type {\n",
       "        vertical-align: middle;\n",
       "    }\n",
       "\n",
       "    .dataframe tbody tr th {\n",
       "        vertical-align: top;\n",
       "    }\n",
       "\n",
       "    .dataframe thead th {\n",
       "        text-align: right;\n",
       "    }\n",
       "</style>\n",
       "<table border=\"1\" class=\"dataframe\">\n",
       "  <thead>\n",
       "    <tr style=\"text-align: right;\">\n",
       "      <th></th>\n",
       "      <th>course_id</th>\n",
       "      <th>course_title</th>\n",
       "      <th>url</th>\n",
       "      <th>is_paid</th>\n",
       "      <th>price</th>\n",
       "      <th>num_subscribers</th>\n",
       "      <th>num_reviews</th>\n",
       "      <th>num_lectures</th>\n",
       "      <th>level</th>\n",
       "      <th>content_duration</th>\n",
       "      <th>published_timestamp</th>\n",
       "      <th>subject</th>\n",
       "      <th>Year</th>\n",
       "      <th>Month</th>\n",
       "      <th>Day</th>\n",
       "      <th>Quarter</th>\n",
       "      <th>Profit</th>\n",
       "    </tr>\n",
       "    <tr>\n",
       "      <th>published_timestamp</th>\n",
       "      <th></th>\n",
       "      <th></th>\n",
       "      <th></th>\n",
       "      <th></th>\n",
       "      <th></th>\n",
       "      <th></th>\n",
       "      <th></th>\n",
       "      <th></th>\n",
       "      <th></th>\n",
       "      <th></th>\n",
       "      <th></th>\n",
       "      <th></th>\n",
       "      <th></th>\n",
       "      <th></th>\n",
       "      <th></th>\n",
       "      <th></th>\n",
       "      <th></th>\n",
       "    </tr>\n",
       "  </thead>\n",
       "  <tbody>\n",
       "    <tr>\n",
       "      <th>2016-05-16 18:28:30+00:00</th>\n",
       "      <td>837322</td>\n",
       "      <td>Essentials of money value: Get a financial Life !</td>\n",
       "      <td>https://www.udemy.com/essentials-of-money-value/</td>\n",
       "      <td>True</td>\n",
       "      <td>20</td>\n",
       "      <td>0</td>\n",
       "      <td>0</td>\n",
       "      <td>20</td>\n",
       "      <td>All Levels</td>\n",
       "      <td>0.616667</td>\n",
       "      <td>2016-05-16 18:28:30+00:00</td>\n",
       "      <td>Business Finance</td>\n",
       "      <td>2016</td>\n",
       "      <td>May</td>\n",
       "      <td>Monday</td>\n",
       "      <td>2</td>\n",
       "      <td>0</td>\n",
       "    </tr>\n",
       "    <tr>\n",
       "      <th>2017-04-23 16:19:01+00:00</th>\n",
       "      <td>1157298</td>\n",
       "      <td>Introduction to Forex Trading Business For Beg...</td>\n",
       "      <td>https://www.udemy.com/introduction-to-forex-tr...</td>\n",
       "      <td>True</td>\n",
       "      <td>20</td>\n",
       "      <td>0</td>\n",
       "      <td>0</td>\n",
       "      <td>27</td>\n",
       "      <td>Beginner Level</td>\n",
       "      <td>1.500000</td>\n",
       "      <td>2017-04-23 16:19:01+00:00</td>\n",
       "      <td>Business Finance</td>\n",
       "      <td>2017</td>\n",
       "      <td>April</td>\n",
       "      <td>Sunday</td>\n",
       "      <td>2</td>\n",
       "      <td>0</td>\n",
       "    </tr>\n",
       "    <tr>\n",
       "      <th>2016-12-15 14:56:17+00:00</th>\n",
       "      <td>1035638</td>\n",
       "      <td>Understanding Financial Statements</td>\n",
       "      <td>https://www.udemy.com/understanding-financial-...</td>\n",
       "      <td>True</td>\n",
       "      <td>25</td>\n",
       "      <td>0</td>\n",
       "      <td>0</td>\n",
       "      <td>10</td>\n",
       "      <td>All Levels</td>\n",
       "      <td>1.000000</td>\n",
       "      <td>2016-12-15 14:56:17+00:00</td>\n",
       "      <td>Business Finance</td>\n",
       "      <td>2016</td>\n",
       "      <td>December</td>\n",
       "      <td>Thursday</td>\n",
       "      <td>4</td>\n",
       "      <td>0</td>\n",
       "    </tr>\n",
       "    <tr>\n",
       "      <th>2017-07-02 14:29:35+00:00</th>\n",
       "      <td>1084454</td>\n",
       "      <td>CFA Level 2- Quantitative Methods</td>\n",
       "      <td>https://www.udemy.com/cfa-level-2-quantitative...</td>\n",
       "      <td>True</td>\n",
       "      <td>40</td>\n",
       "      <td>0</td>\n",
       "      <td>0</td>\n",
       "      <td>35</td>\n",
       "      <td>All Levels</td>\n",
       "      <td>5.500000</td>\n",
       "      <td>2017-07-02 14:29:35+00:00</td>\n",
       "      <td>Business Finance</td>\n",
       "      <td>2017</td>\n",
       "      <td>July</td>\n",
       "      <td>Sunday</td>\n",
       "      <td>3</td>\n",
       "      <td>0</td>\n",
       "    </tr>\n",
       "    <tr>\n",
       "      <th>2014-04-15 21:48:55+00:00</th>\n",
       "      <td>185526</td>\n",
       "      <td>MicroStation - Células</td>\n",
       "      <td>https://www.udemy.com/microstation-celulas/</td>\n",
       "      <td>True</td>\n",
       "      <td>20</td>\n",
       "      <td>0</td>\n",
       "      <td>0</td>\n",
       "      <td>9</td>\n",
       "      <td>Beginner Level</td>\n",
       "      <td>0.616667</td>\n",
       "      <td>2014-04-15 21:48:55+00:00</td>\n",
       "      <td>Graphic Design</td>\n",
       "      <td>2014</td>\n",
       "      <td>April</td>\n",
       "      <td>Tuesday</td>\n",
       "      <td>2</td>\n",
       "      <td>0</td>\n",
       "    </tr>\n",
       "    <tr>\n",
       "      <th>2013-01-03 00:55:31+00:00</th>\n",
       "      <td>28295</td>\n",
       "      <td>Learn Web Designing &amp; HTML5/CSS3 Essentials in...</td>\n",
       "      <td>https://www.udemy.com/build-beautiful-html5-we...</td>\n",
       "      <td>True</td>\n",
       "      <td>75</td>\n",
       "      <td>43285</td>\n",
       "      <td>525</td>\n",
       "      <td>24</td>\n",
       "      <td>All Levels</td>\n",
       "      <td>4.000000</td>\n",
       "      <td>2013-01-03 00:55:31+00:00</td>\n",
       "      <td>Web Development</td>\n",
       "      <td>2013</td>\n",
       "      <td>January</td>\n",
       "      <td>Thursday</td>\n",
       "      <td>1</td>\n",
       "      <td>3246375</td>\n",
       "    </tr>\n",
       "  </tbody>\n",
       "</table>\n",
       "</div>"
      ],
      "text/plain": [
       "                           course_id  \\\n",
       "published_timestamp                    \n",
       "2016-05-16 18:28:30+00:00     837322   \n",
       "2017-04-23 16:19:01+00:00    1157298   \n",
       "2016-12-15 14:56:17+00:00    1035638   \n",
       "2017-07-02 14:29:35+00:00    1084454   \n",
       "2014-04-15 21:48:55+00:00     185526   \n",
       "2013-01-03 00:55:31+00:00      28295   \n",
       "\n",
       "                                                                course_title  \\\n",
       "published_timestamp                                                            \n",
       "2016-05-16 18:28:30+00:00  Essentials of money value: Get a financial Life !   \n",
       "2017-04-23 16:19:01+00:00  Introduction to Forex Trading Business For Beg...   \n",
       "2016-12-15 14:56:17+00:00                 Understanding Financial Statements   \n",
       "2017-07-02 14:29:35+00:00                  CFA Level 2- Quantitative Methods   \n",
       "2014-04-15 21:48:55+00:00                             MicroStation - Células   \n",
       "2013-01-03 00:55:31+00:00  Learn Web Designing & HTML5/CSS3 Essentials in...   \n",
       "\n",
       "                                                                         url  \\\n",
       "published_timestamp                                                            \n",
       "2016-05-16 18:28:30+00:00   https://www.udemy.com/essentials-of-money-value/   \n",
       "2017-04-23 16:19:01+00:00  https://www.udemy.com/introduction-to-forex-tr...   \n",
       "2016-12-15 14:56:17+00:00  https://www.udemy.com/understanding-financial-...   \n",
       "2017-07-02 14:29:35+00:00  https://www.udemy.com/cfa-level-2-quantitative...   \n",
       "2014-04-15 21:48:55+00:00        https://www.udemy.com/microstation-celulas/   \n",
       "2013-01-03 00:55:31+00:00  https://www.udemy.com/build-beautiful-html5-we...   \n",
       "\n",
       "                           is_paid  price  num_subscribers  num_reviews  \\\n",
       "published_timestamp                                                       \n",
       "2016-05-16 18:28:30+00:00     True     20                0            0   \n",
       "2017-04-23 16:19:01+00:00     True     20                0            0   \n",
       "2016-12-15 14:56:17+00:00     True     25                0            0   \n",
       "2017-07-02 14:29:35+00:00     True     40                0            0   \n",
       "2014-04-15 21:48:55+00:00     True     20                0            0   \n",
       "2013-01-03 00:55:31+00:00     True     75            43285          525   \n",
       "\n",
       "                           num_lectures           level  content_duration  \\\n",
       "published_timestamp                                                         \n",
       "2016-05-16 18:28:30+00:00            20      All Levels          0.616667   \n",
       "2017-04-23 16:19:01+00:00            27  Beginner Level          1.500000   \n",
       "2016-12-15 14:56:17+00:00            10      All Levels          1.000000   \n",
       "2017-07-02 14:29:35+00:00            35      All Levels          5.500000   \n",
       "2014-04-15 21:48:55+00:00             9  Beginner Level          0.616667   \n",
       "2013-01-03 00:55:31+00:00            24      All Levels          4.000000   \n",
       "\n",
       "                                published_timestamp           subject  Year  \\\n",
       "published_timestamp                                                           \n",
       "2016-05-16 18:28:30+00:00 2016-05-16 18:28:30+00:00  Business Finance  2016   \n",
       "2017-04-23 16:19:01+00:00 2017-04-23 16:19:01+00:00  Business Finance  2017   \n",
       "2016-12-15 14:56:17+00:00 2016-12-15 14:56:17+00:00  Business Finance  2016   \n",
       "2017-07-02 14:29:35+00:00 2017-07-02 14:29:35+00:00  Business Finance  2017   \n",
       "2014-04-15 21:48:55+00:00 2014-04-15 21:48:55+00:00    Graphic Design  2014   \n",
       "2013-01-03 00:55:31+00:00 2013-01-03 00:55:31+00:00   Web Development  2013   \n",
       "\n",
       "                              Month       Day  Quarter   Profit  \n",
       "published_timestamp                                              \n",
       "2016-05-16 18:28:30+00:00       May    Monday        2        0  \n",
       "2017-04-23 16:19:01+00:00     April    Sunday        2        0  \n",
       "2016-12-15 14:56:17+00:00  December  Thursday        4        0  \n",
       "2017-07-02 14:29:35+00:00      July    Sunday        3        0  \n",
       "2014-04-15 21:48:55+00:00     April   Tuesday        2        0  \n",
       "2013-01-03 00:55:31+00:00   January  Thursday        1  3246375  "
      ]
     },
     "execution_count": 25,
     "metadata": {},
     "output_type": "execute_result"
    }
   ],
   "source": [
    "df[df.duplicated()]"
   ]
  },
  {
   "cell_type": "markdown",
   "id": "7006feee",
   "metadata": {},
   "source": [
    "To drop the duplicated values "
   ]
  },
  {
   "cell_type": "code",
   "execution_count": 26,
   "id": "c4412cd0",
   "metadata": {},
   "outputs": [],
   "source": [
    "df.drop_duplicates(inplace=True)"
   ]
  },
  {
   "cell_type": "code",
   "execution_count": 27,
   "id": "d9b759de",
   "metadata": {},
   "outputs": [
    {
     "data": {
      "text/plain": [
       "0"
      ]
     },
     "execution_count": 27,
     "metadata": {},
     "output_type": "execute_result"
    }
   ],
   "source": [
    "df.duplicated().sum()"
   ]
  },
  {
   "cell_type": "markdown",
   "id": "2770885d",
   "metadata": {},
   "source": [
    "Categorization for numerical data, Since the content 'Duration' is in numeric values we can categorize it for future benfits in the project Dashboard."
   ]
  },
  {
   "cell_type": "code",
   "execution_count": 28,
   "id": "7245a059",
   "metadata": {},
   "outputs": [
    {
     "data": {
      "text/plain": [
       "content_duration\n",
       "1.000000     606\n",
       "1.500000     506\n",
       "2.000000     419\n",
       "2.500000     269\n",
       "3.000000     248\n",
       "            ... \n",
       "0.483333       1\n",
       "78.500000      1\n",
       "70.000000      1\n",
       "0.000000       1\n",
       "66.500000      1\n",
       "Name: count, Length: 105, dtype: int64"
      ]
     },
     "execution_count": 28,
     "metadata": {},
     "output_type": "execute_result"
    }
   ],
   "source": [
    "df['content_duration'].value_counts()"
   ]
  },
  {
   "cell_type": "code",
   "execution_count": 29,
   "id": "7882e7a2",
   "metadata": {},
   "outputs": [],
   "source": [
    "df['Duration'] = pd.qcut(df['content_duration'], 6, labels = ['0:1', '1:3','3:7','7:12', '12:20', '20+'])"
   ]
  },
  {
   "cell_type": "code",
   "execution_count": 30,
   "id": "c39ca770",
   "metadata": {},
   "outputs": [
    {
     "data": {
      "text/html": [
       "<div>\n",
       "<style scoped>\n",
       "    .dataframe tbody tr th:only-of-type {\n",
       "        vertical-align: middle;\n",
       "    }\n",
       "\n",
       "    .dataframe tbody tr th {\n",
       "        vertical-align: top;\n",
       "    }\n",
       "\n",
       "    .dataframe thead th {\n",
       "        text-align: right;\n",
       "    }\n",
       "</style>\n",
       "<table border=\"1\" class=\"dataframe\">\n",
       "  <thead>\n",
       "    <tr style=\"text-align: right;\">\n",
       "      <th></th>\n",
       "      <th>course_id</th>\n",
       "      <th>course_title</th>\n",
       "      <th>url</th>\n",
       "      <th>is_paid</th>\n",
       "      <th>price</th>\n",
       "      <th>num_subscribers</th>\n",
       "      <th>num_reviews</th>\n",
       "      <th>num_lectures</th>\n",
       "      <th>level</th>\n",
       "      <th>content_duration</th>\n",
       "      <th>published_timestamp</th>\n",
       "      <th>subject</th>\n",
       "      <th>Year</th>\n",
       "      <th>Month</th>\n",
       "      <th>Day</th>\n",
       "      <th>Quarter</th>\n",
       "      <th>Profit</th>\n",
       "      <th>Duration</th>\n",
       "    </tr>\n",
       "    <tr>\n",
       "      <th>published_timestamp</th>\n",
       "      <th></th>\n",
       "      <th></th>\n",
       "      <th></th>\n",
       "      <th></th>\n",
       "      <th></th>\n",
       "      <th></th>\n",
       "      <th></th>\n",
       "      <th></th>\n",
       "      <th></th>\n",
       "      <th></th>\n",
       "      <th></th>\n",
       "      <th></th>\n",
       "      <th></th>\n",
       "      <th></th>\n",
       "      <th></th>\n",
       "      <th></th>\n",
       "      <th></th>\n",
       "      <th></th>\n",
       "    </tr>\n",
       "  </thead>\n",
       "  <tbody>\n",
       "    <tr>\n",
       "      <th>2013-07-09 03:16:26+00:00</th>\n",
       "      <td>64422</td>\n",
       "      <td>1 Hour HTML</td>\n",
       "      <td>https://www.udemy.com/1-hour-html/</td>\n",
       "      <td>True</td>\n",
       "      <td>200</td>\n",
       "      <td>16212</td>\n",
       "      <td>514</td>\n",
       "      <td>20</td>\n",
       "      <td>Beginner Level</td>\n",
       "      <td>1.0</td>\n",
       "      <td>2013-07-09 03:16:26+00:00</td>\n",
       "      <td>Web Development</td>\n",
       "      <td>2013</td>\n",
       "      <td>July</td>\n",
       "      <td>Tuesday</td>\n",
       "      <td>3</td>\n",
       "      <td>3242400</td>\n",
       "      <td>0:1</td>\n",
       "    </tr>\n",
       "  </tbody>\n",
       "</table>\n",
       "</div>"
      ],
      "text/plain": [
       "                           course_id course_title  \\\n",
       "published_timestamp                                 \n",
       "2013-07-09 03:16:26+00:00      64422  1 Hour HTML   \n",
       "\n",
       "                                                          url  is_paid  price  \\\n",
       "published_timestamp                                                             \n",
       "2013-07-09 03:16:26+00:00  https://www.udemy.com/1-hour-html/     True    200   \n",
       "\n",
       "                           num_subscribers  num_reviews  num_lectures  \\\n",
       "published_timestamp                                                     \n",
       "2013-07-09 03:16:26+00:00            16212          514            20   \n",
       "\n",
       "                                    level  content_duration  \\\n",
       "published_timestamp                                           \n",
       "2013-07-09 03:16:26+00:00  Beginner Level               1.0   \n",
       "\n",
       "                                published_timestamp          subject  Year  \\\n",
       "published_timestamp                                                          \n",
       "2013-07-09 03:16:26+00:00 2013-07-09 03:16:26+00:00  Web Development  2013   \n",
       "\n",
       "                          Month      Day  Quarter   Profit Duration  \n",
       "published_timestamp                                                  \n",
       "2013-07-09 03:16:26+00:00  July  Tuesday        3  3242400      0:1  "
      ]
     },
     "execution_count": 30,
     "metadata": {},
     "output_type": "execute_result"
    }
   ],
   "source": [
    "df.sample()"
   ]
  },
  {
   "cell_type": "code",
   "execution_count": 31,
   "id": "201ec616",
   "metadata": {},
   "outputs": [],
   "source": [
    "df.rename(columns = {'Duration':'Duration_category'}, inplace = True)"
   ]
  },
  {
   "cell_type": "code",
   "execution_count": 32,
   "id": "3e5e36a3",
   "metadata": {},
   "outputs": [
    {
     "data": {
      "text/html": [
       "<div>\n",
       "<style scoped>\n",
       "    .dataframe tbody tr th:only-of-type {\n",
       "        vertical-align: middle;\n",
       "    }\n",
       "\n",
       "    .dataframe tbody tr th {\n",
       "        vertical-align: top;\n",
       "    }\n",
       "\n",
       "    .dataframe thead th {\n",
       "        text-align: right;\n",
       "    }\n",
       "</style>\n",
       "<table border=\"1\" class=\"dataframe\">\n",
       "  <thead>\n",
       "    <tr style=\"text-align: right;\">\n",
       "      <th></th>\n",
       "      <th>course_id</th>\n",
       "      <th>course_title</th>\n",
       "      <th>url</th>\n",
       "      <th>is_paid</th>\n",
       "      <th>price</th>\n",
       "      <th>num_subscribers</th>\n",
       "      <th>num_reviews</th>\n",
       "      <th>num_lectures</th>\n",
       "      <th>level</th>\n",
       "      <th>content_duration</th>\n",
       "      <th>published_timestamp</th>\n",
       "      <th>subject</th>\n",
       "      <th>Year</th>\n",
       "      <th>Month</th>\n",
       "      <th>Day</th>\n",
       "      <th>Quarter</th>\n",
       "      <th>Profit</th>\n",
       "      <th>Duration_category</th>\n",
       "    </tr>\n",
       "    <tr>\n",
       "      <th>published_timestamp</th>\n",
       "      <th></th>\n",
       "      <th></th>\n",
       "      <th></th>\n",
       "      <th></th>\n",
       "      <th></th>\n",
       "      <th></th>\n",
       "      <th></th>\n",
       "      <th></th>\n",
       "      <th></th>\n",
       "      <th></th>\n",
       "      <th></th>\n",
       "      <th></th>\n",
       "      <th></th>\n",
       "      <th></th>\n",
       "      <th></th>\n",
       "      <th></th>\n",
       "      <th></th>\n",
       "      <th></th>\n",
       "    </tr>\n",
       "  </thead>\n",
       "  <tbody>\n",
       "    <tr>\n",
       "      <th>2014-03-12 13:40:53+00:00</th>\n",
       "      <td>180362</td>\n",
       "      <td>The Securities Trade Lifecycle</td>\n",
       "      <td>https://www.udemy.com/the-securities-trade-lif...</td>\n",
       "      <td>True</td>\n",
       "      <td>50</td>\n",
       "      <td>1182</td>\n",
       "      <td>110</td>\n",
       "      <td>22</td>\n",
       "      <td>All Levels</td>\n",
       "      <td>4.0</td>\n",
       "      <td>2014-03-12 13:40:53+00:00</td>\n",
       "      <td>Business Finance</td>\n",
       "      <td>2014</td>\n",
       "      <td>March</td>\n",
       "      <td>Wednesday</td>\n",
       "      <td>1</td>\n",
       "      <td>59100</td>\n",
       "      <td>12:20</td>\n",
       "    </tr>\n",
       "  </tbody>\n",
       "</table>\n",
       "</div>"
      ],
      "text/plain": [
       "                           course_id                    course_title  \\\n",
       "published_timestamp                                                    \n",
       "2014-03-12 13:40:53+00:00     180362  The Securities Trade Lifecycle   \n",
       "\n",
       "                                                                         url  \\\n",
       "published_timestamp                                                            \n",
       "2014-03-12 13:40:53+00:00  https://www.udemy.com/the-securities-trade-lif...   \n",
       "\n",
       "                           is_paid  price  num_subscribers  num_reviews  \\\n",
       "published_timestamp                                                       \n",
       "2014-03-12 13:40:53+00:00     True     50             1182          110   \n",
       "\n",
       "                           num_lectures       level  content_duration  \\\n",
       "published_timestamp                                                     \n",
       "2014-03-12 13:40:53+00:00            22  All Levels               4.0   \n",
       "\n",
       "                                published_timestamp           subject  Year  \\\n",
       "published_timestamp                                                           \n",
       "2014-03-12 13:40:53+00:00 2014-03-12 13:40:53+00:00  Business Finance  2014   \n",
       "\n",
       "                           Month        Day  Quarter  Profit Duration_category  \n",
       "published_timestamp                                                             \n",
       "2014-03-12 13:40:53+00:00  March  Wednesday        1   59100             12:20  "
      ]
     },
     "execution_count": 32,
     "metadata": {},
     "output_type": "execute_result"
    }
   ],
   "source": [
    "df.sample()"
   ]
  },
  {
   "cell_type": "code",
   "execution_count": 33,
   "id": "0fbbd98d",
   "metadata": {},
   "outputs": [
    {
     "data": {
      "text/plain": [
       "Duration_category\n",
       "0:1      931\n",
       "7:12     699\n",
       "20+      590\n",
       "12:20    527\n",
       "1:3      506\n",
       "3:7      419\n",
       "Name: count, dtype: int64"
      ]
     },
     "execution_count": 33,
     "metadata": {},
     "output_type": "execute_result"
    }
   ],
   "source": [
    "df['Duration_category'].value_counts()"
   ]
  },
  {
   "cell_type": "markdown",
   "id": "fc752e05",
   "metadata": {},
   "source": [
    "Categorization for numerical data, Since the 'price' is in numeric values we can categorize it for future benfits in the project Dashboard."
   ]
  },
  {
   "cell_type": "code",
   "execution_count": 34,
   "id": "39cefee1",
   "metadata": {},
   "outputs": [
    {
     "data": {
      "text/plain": [
       "price\n",
       "20     827\n",
       "50     468\n",
       "0      310\n",
       "200    295\n",
       "40     216\n",
       "30     166\n",
       "25     153\n",
       "95     152\n",
       "100    133\n",
       "195    127\n",
       "35     116\n",
       "150     88\n",
       "45      83\n",
       "75      80\n",
       "60      75\n",
       "120     37\n",
       "55      35\n",
       "85      31\n",
       "125     30\n",
       "65      30\n",
       "80      29\n",
       "145     27\n",
       "70      26\n",
       "90      19\n",
       "180     17\n",
       "115     16\n",
       "175     13\n",
       "105     11\n",
       "190     10\n",
       "140     10\n",
       "110      8\n",
       "135      8\n",
       "165      6\n",
       "185      6\n",
       "170      5\n",
       "160      4\n",
       "130      3\n",
       "155      2\n",
       "Name: count, dtype: int64"
      ]
     },
     "execution_count": 34,
     "metadata": {},
     "output_type": "execute_result"
    }
   ],
   "source": [
    "df['price'].value_counts()"
   ]
  },
  {
   "cell_type": "code",
   "execution_count": 35,
   "id": "dcc6f335",
   "metadata": {},
   "outputs": [],
   "source": [
    "price_dict = {\n",
    "    0: \"Free\",\n",
    "    range (20, 55, 5):'20:50',\n",
    "    range (55, 105, 5): '55:100',\n",
    "    range (105, 155, 5): '105:150',\n",
    "    range (155, 205, 5): '155:200'\n",
    "}"
   ]
  },
  {
   "cell_type": "code",
   "execution_count": 36,
   "id": "dc4f56d5",
   "metadata": {},
   "outputs": [],
   "source": [
    "df['Price_Category'] = df['price'].replace(price_dict)"
   ]
  },
  {
   "cell_type": "code",
   "execution_count": 37,
   "id": "c2e95ce5",
   "metadata": {},
   "outputs": [
    {
     "data": {
      "text/html": [
       "<div>\n",
       "<style scoped>\n",
       "    .dataframe tbody tr th:only-of-type {\n",
       "        vertical-align: middle;\n",
       "    }\n",
       "\n",
       "    .dataframe tbody tr th {\n",
       "        vertical-align: top;\n",
       "    }\n",
       "\n",
       "    .dataframe thead th {\n",
       "        text-align: right;\n",
       "    }\n",
       "</style>\n",
       "<table border=\"1\" class=\"dataframe\">\n",
       "  <thead>\n",
       "    <tr style=\"text-align: right;\">\n",
       "      <th></th>\n",
       "      <th>course_id</th>\n",
       "      <th>course_title</th>\n",
       "      <th>url</th>\n",
       "      <th>is_paid</th>\n",
       "      <th>price</th>\n",
       "      <th>num_subscribers</th>\n",
       "      <th>num_reviews</th>\n",
       "      <th>num_lectures</th>\n",
       "      <th>level</th>\n",
       "      <th>content_duration</th>\n",
       "      <th>published_timestamp</th>\n",
       "      <th>subject</th>\n",
       "      <th>Year</th>\n",
       "      <th>Month</th>\n",
       "      <th>Day</th>\n",
       "      <th>Quarter</th>\n",
       "      <th>Profit</th>\n",
       "      <th>Duration_category</th>\n",
       "      <th>Price_Category</th>\n",
       "    </tr>\n",
       "    <tr>\n",
       "      <th>published_timestamp</th>\n",
       "      <th></th>\n",
       "      <th></th>\n",
       "      <th></th>\n",
       "      <th></th>\n",
       "      <th></th>\n",
       "      <th></th>\n",
       "      <th></th>\n",
       "      <th></th>\n",
       "      <th></th>\n",
       "      <th></th>\n",
       "      <th></th>\n",
       "      <th></th>\n",
       "      <th></th>\n",
       "      <th></th>\n",
       "      <th></th>\n",
       "      <th></th>\n",
       "      <th></th>\n",
       "      <th></th>\n",
       "      <th></th>\n",
       "    </tr>\n",
       "  </thead>\n",
       "  <tbody>\n",
       "    <tr>\n",
       "      <th>2015-03-26 18:20:18+00:00</th>\n",
       "      <td>410196</td>\n",
       "      <td>DIY: Reduce Unpaid Federal Tax thru  IRS Offer...</td>\n",
       "      <td>https://www.udemy.com/diy-reduce-unpaid-federa...</td>\n",
       "      <td>True</td>\n",
       "      <td>20</td>\n",
       "      <td>44</td>\n",
       "      <td>3</td>\n",
       "      <td>8</td>\n",
       "      <td>All Levels</td>\n",
       "      <td>1.0</td>\n",
       "      <td>2015-03-26 18:20:18+00:00</td>\n",
       "      <td>Business Finance</td>\n",
       "      <td>2015</td>\n",
       "      <td>March</td>\n",
       "      <td>Thursday</td>\n",
       "      <td>1</td>\n",
       "      <td>880</td>\n",
       "      <td>0:1</td>\n",
       "      <td>20:50</td>\n",
       "    </tr>\n",
       "  </tbody>\n",
       "</table>\n",
       "</div>"
      ],
      "text/plain": [
       "                           course_id  \\\n",
       "published_timestamp                    \n",
       "2015-03-26 18:20:18+00:00     410196   \n",
       "\n",
       "                                                                course_title  \\\n",
       "published_timestamp                                                            \n",
       "2015-03-26 18:20:18+00:00  DIY: Reduce Unpaid Federal Tax thru  IRS Offer...   \n",
       "\n",
       "                                                                         url  \\\n",
       "published_timestamp                                                            \n",
       "2015-03-26 18:20:18+00:00  https://www.udemy.com/diy-reduce-unpaid-federa...   \n",
       "\n",
       "                           is_paid  price  num_subscribers  num_reviews  \\\n",
       "published_timestamp                                                       \n",
       "2015-03-26 18:20:18+00:00     True     20               44            3   \n",
       "\n",
       "                           num_lectures       level  content_duration  \\\n",
       "published_timestamp                                                     \n",
       "2015-03-26 18:20:18+00:00             8  All Levels               1.0   \n",
       "\n",
       "                                published_timestamp           subject  Year  \\\n",
       "published_timestamp                                                           \n",
       "2015-03-26 18:20:18+00:00 2015-03-26 18:20:18+00:00  Business Finance  2015   \n",
       "\n",
       "                           Month       Day  Quarter  Profit Duration_category  \\\n",
       "published_timestamp                                                             \n",
       "2015-03-26 18:20:18+00:00  March  Thursday        1     880               0:1   \n",
       "\n",
       "                          Price_Category  \n",
       "published_timestamp                       \n",
       "2015-03-26 18:20:18+00:00          20:50  "
      ]
     },
     "execution_count": 37,
     "metadata": {},
     "output_type": "execute_result"
    }
   ],
   "source": [
    "df.sample()"
   ]
  },
  {
   "cell_type": "markdown",
   "id": "c3837751",
   "metadata": {},
   "source": [
    "## Eploratory Data Analysis (EDA)"
   ]
  },
  {
   "cell_type": "markdown",
   "id": "10d312aa",
   "metadata": {},
   "source": [
    "- Univariate Analysis\n",
    "- BI-Variate Analysis\n",
    "- Multi-Variate Analysis"
   ]
  },
  {
   "cell_type": "markdown",
   "id": "66a0f469",
   "metadata": {},
   "source": [
    "## EDA for feature \"Subject\""
   ]
  },
  {
   "cell_type": "markdown",
   "id": "1b28e97d",
   "metadata": {},
   "source": [
    "### 1) Uni-variate Analysis"
   ]
  },
  {
   "cell_type": "code",
   "execution_count": 38,
   "id": "aba66d3d",
   "metadata": {},
   "outputs": [
    {
     "data": {
      "text/plain": [
       "published_timestamp\n",
       "2017-01-18 20:58:58+00:00    Business Finance\n",
       "2017-03-09 16:34:20+00:00    Business Finance\n",
       "2016-12-19 19:26:30+00:00    Business Finance\n",
       "2017-05-30 20:07:24+00:00    Business Finance\n",
       "2016-12-13 14:57:18+00:00    Business Finance\n",
       "                                   ...       \n",
       "2016-06-14 17:36:46+00:00     Web Development\n",
       "2017-03-10 22:24:30+00:00     Web Development\n",
       "2015-12-30 16:41:42+00:00     Web Development\n",
       "2016-08-11 19:06:15+00:00     Web Development\n",
       "2014-09-28 19:51:11+00:00     Web Development\n",
       "Name: subject, Length: 3672, dtype: object"
      ]
     },
     "execution_count": 38,
     "metadata": {},
     "output_type": "execute_result"
    }
   ],
   "source": [
    "df['subject']"
   ]
  },
  {
   "cell_type": "markdown",
   "id": "1a8e3e45",
   "metadata": {},
   "source": [
    "#### A. Feature overview"
   ]
  },
  {
   "cell_type": "code",
   "execution_count": 39,
   "id": "47d8a235",
   "metadata": {},
   "outputs": [
    {
     "data": {
      "text/plain": [
       "count                3672\n",
       "unique                  4\n",
       "top       Web Development\n",
       "freq                 1199\n",
       "Name: subject, dtype: object"
      ]
     },
     "execution_count": 39,
     "metadata": {},
     "output_type": "execute_result"
    }
   ],
   "source": [
    "df['subject'].describe()"
   ]
  },
  {
   "cell_type": "code",
   "execution_count": 40,
   "id": "94369d93",
   "metadata": {},
   "outputs": [
    {
     "data": {
      "text/plain": [
       "3672"
      ]
     },
     "execution_count": 40,
     "metadata": {},
     "output_type": "execute_result"
    }
   ],
   "source": [
    "df['subject'].count()"
   ]
  },
  {
   "cell_type": "code",
   "execution_count": 41,
   "id": "a325d54d",
   "metadata": {},
   "outputs": [
    {
     "data": {
      "text/plain": [
       "4"
      ]
     },
     "execution_count": 41,
     "metadata": {},
     "output_type": "execute_result"
    }
   ],
   "source": [
    "df['subject'].nunique()"
   ]
  },
  {
   "cell_type": "markdown",
   "id": "6ce5f656",
   "metadata": {},
   "source": [
    "#### B. How many courses in each subject? "
   ]
  },
  {
   "cell_type": "code",
   "execution_count": 42,
   "id": "90f71a02",
   "metadata": {},
   "outputs": [
    {
     "data": {
      "text/plain": [
       "subject\n",
       "Web Development        1199\n",
       "Business Finance       1191\n",
       "Musical Instruments     680\n",
       "Graphic Design          602\n",
       "Name: count, dtype: int64"
      ]
     },
     "execution_count": 42,
     "metadata": {},
     "output_type": "execute_result"
    }
   ],
   "source": [
    "df['subject'].value_counts()"
   ]
  },
  {
   "cell_type": "code",
   "execution_count": 43,
   "id": "f9963c03",
   "metadata": {},
   "outputs": [
    {
     "data": {
      "text/plain": [
       "<Axes: xlabel='subject'>"
      ]
     },
     "execution_count": 43,
     "metadata": {},
     "output_type": "execute_result"
    },
    {
     "data": {
      "image/png": "[encoded data removed]",
      "text/plain": [
       "<Figure size 640x480 with 1 Axes>"
      ]
     },
     "metadata": {},
     "output_type": "display_data"
    }
   ],
   "source": [
    "df['subject'].value_counts().plot(kind='bar')"
   ]
  },
  {
   "cell_type": "code",
   "execution_count": 44,
   "id": "388e032c",
   "metadata": {},
   "outputs": [
    {
     "data": {
      "text/plain": [
       "<Axes: ylabel='count'>"
      ]
     },
     "execution_count": 44,
     "metadata": {},
     "output_type": "execute_result"
    },
    {
     "data": {
      "image/png": "[encoded data removed]",
      "text/plain": [
       "<Figure size 640x480 with 1 Axes>"
      ]
     },
     "metadata": {},
     "output_type": "display_data"
    }
   ],
   "source": [
    "df['subject'].value_counts().plot(kind='pie')"
   ]
  },
  {
   "cell_type": "markdown",
   "id": "c7627dfa",
   "metadata": {},
   "source": [
    "### 2) Bi-Variate Analysis"
   ]
  },
  {
   "cell_type": "markdown",
   "id": "06c5c880",
   "metadata": {},
   "source": [
    "#### A. How Many subscribers in each subject?"
   ]
  },
  {
   "cell_type": "code",
   "execution_count": 45,
   "id": "6ad2ddb3",
   "metadata": {},
   "outputs": [
    {
     "ename": "TypeError",
     "evalue": "datetime64 type does not support sum operations",
     "output_type": "error",
     "traceback": [
      "\u001b[1;31m---------------------------------------------------------------------------\u001b[0m",
      "\u001b[1;31mTypeError\u001b[0m                                 Traceback (most recent call last)",
      "Cell \u001b[1;32mIn[45], line 1\u001b[0m\n\u001b[1;32m----> 1\u001b[0m df\u001b[38;5;241m.\u001b[39mgroupby(\u001b[38;5;124m'\u001b[39m\u001b[38;5;124msubject\u001b[39m\u001b[38;5;124m'\u001b[39m)\u001b[38;5;241m.\u001b[39msum()[\u001b[38;5;124m'\u001b[39m\u001b[38;5;124mnum_subscribers\u001b[39m\u001b[38;5;124m'\u001b[39m]\n",
      "File \u001b[1;32m~\\AppData\\Roaming\\Python\\Python311\\site-packages\\pandas\\core\\groupby\\groupby.py:3053\u001b[0m, in \u001b[0;36mGroupBy.sum\u001b[1;34m(self, numeric_only, min_count, engine, engine_kwargs)\u001b[0m\n\u001b[0;32m   3048\u001b[0m \u001b[38;5;28;01melse\u001b[39;00m:\n\u001b[0;32m   3049\u001b[0m     \u001b[38;5;66;03m# If we are grouping on categoricals we want unobserved categories to\u001b[39;00m\n\u001b[0;32m   3050\u001b[0m     \u001b[38;5;66;03m# return zero, rather than the default of NaN which the reindexing in\u001b[39;00m\n\u001b[0;32m   3051\u001b[0m     \u001b[38;5;66;03m# _agg_general() returns. GH #31422\u001b[39;00m\n\u001b[0;32m   3052\u001b[0m     \u001b[38;5;28;01mwith\u001b[39;00m com\u001b[38;5;241m.\u001b[39mtemp_setattr(\u001b[38;5;28mself\u001b[39m, \u001b[38;5;124m\"\u001b[39m\u001b[38;5;124mobserved\u001b[39m\u001b[38;5;124m\"\u001b[39m, \u001b[38;5;28;01mTrue\u001b[39;00m):\n\u001b[1;32m-> 3053\u001b[0m         result \u001b[38;5;241m=\u001b[39m \u001b[38;5;28mself\u001b[39m\u001b[38;5;241m.\u001b[39m_agg_general(\n\u001b[0;32m   3054\u001b[0m             numeric_only\u001b[38;5;241m=\u001b[39mnumeric_only,\n\u001b[0;32m   3055\u001b[0m             min_count\u001b[38;5;241m=\u001b[39mmin_count,\n\u001b[0;32m   3056\u001b[0m             alias\u001b[38;5;241m=\u001b[39m\u001b[38;5;124m\"\u001b[39m\u001b[38;5;124msum\u001b[39m\u001b[38;5;124m\"\u001b[39m,\n\u001b[0;32m   3057\u001b[0m             npfunc\u001b[38;5;241m=\u001b[39mnp\u001b[38;5;241m.\u001b[39msum,\n\u001b[0;32m   3058\u001b[0m         )\n\u001b[0;32m   3060\u001b[0m     \u001b[38;5;28;01mreturn\u001b[39;00m \u001b[38;5;28mself\u001b[39m\u001b[38;5;241m.\u001b[39m_reindex_output(result, fill_value\u001b[38;5;241m=\u001b[39m\u001b[38;5;241m0\u001b[39m)\n",
      "File \u001b[1;32m~\\AppData\\Roaming\\Python\\Python311\\site-packages\\pandas\\core\\groupby\\groupby.py:1835\u001b[0m, in \u001b[0;36mGroupBy._agg_general\u001b[1;34m(self, numeric_only, min_count, alias, npfunc)\u001b[0m\n\u001b[0;32m   1826\u001b[0m \u001b[38;5;129m@final\u001b[39m\n\u001b[0;32m   1827\u001b[0m \u001b[38;5;28;01mdef\u001b[39;00m \u001b[38;5;21m_agg_general\u001b[39m(\n\u001b[0;32m   1828\u001b[0m     \u001b[38;5;28mself\u001b[39m,\n\u001b[1;32m   (...)\u001b[0m\n\u001b[0;32m   1833\u001b[0m     npfunc: Callable,\n\u001b[0;32m   1834\u001b[0m ):\n\u001b[1;32m-> 1835\u001b[0m     result \u001b[38;5;241m=\u001b[39m \u001b[38;5;28mself\u001b[39m\u001b[38;5;241m.\u001b[39m_cython_agg_general(\n\u001b[0;32m   1836\u001b[0m         how\u001b[38;5;241m=\u001b[39malias,\n\u001b[0;32m   1837\u001b[0m         alt\u001b[38;5;241m=\u001b[39mnpfunc,\n\u001b[0;32m   1838\u001b[0m         numeric_only\u001b[38;5;241m=\u001b[39mnumeric_only,\n\u001b[0;32m   1839\u001b[0m         min_count\u001b[38;5;241m=\u001b[39mmin_count,\n\u001b[0;32m   1840\u001b[0m     )\n\u001b[0;32m   1841\u001b[0m     \u001b[38;5;28;01mreturn\u001b[39;00m result\u001b[38;5;241m.\u001b[39m__finalize__(\u001b[38;5;28mself\u001b[39m\u001b[38;5;241m.\u001b[39mobj, method\u001b[38;5;241m=\u001b[39m\u001b[38;5;124m\"\u001b[39m\u001b[38;5;124mgroupby\u001b[39m\u001b[38;5;124m\"\u001b[39m)\n",
      "File \u001b[1;32m~\\AppData\\Roaming\\Python\\Python311\\site-packages\\pandas\\core\\groupby\\groupby.py:1926\u001b[0m, in \u001b[0;36mGroupBy._cython_agg_general\u001b[1;34m(self, how, alt, numeric_only, min_count, **kwargs)\u001b[0m\n\u001b[0;32m   1923\u001b[0m     result \u001b[38;5;241m=\u001b[39m \u001b[38;5;28mself\u001b[39m\u001b[38;5;241m.\u001b[39m_agg_py_fallback(how, values, ndim\u001b[38;5;241m=\u001b[39mdata\u001b[38;5;241m.\u001b[39mndim, alt\u001b[38;5;241m=\u001b[39malt)\n\u001b[0;32m   1924\u001b[0m     \u001b[38;5;28;01mreturn\u001b[39;00m result\n\u001b[1;32m-> 1926\u001b[0m new_mgr \u001b[38;5;241m=\u001b[39m data\u001b[38;5;241m.\u001b[39mgrouped_reduce(array_func)\n\u001b[0;32m   1927\u001b[0m res \u001b[38;5;241m=\u001b[39m \u001b[38;5;28mself\u001b[39m\u001b[38;5;241m.\u001b[39m_wrap_agged_manager(new_mgr)\n\u001b[0;32m   1928\u001b[0m out \u001b[38;5;241m=\u001b[39m \u001b[38;5;28mself\u001b[39m\u001b[38;5;241m.\u001b[39m_wrap_aggregated_output(res)\n",
      "File \u001b[1;32m~\\AppData\\Roaming\\Python\\Python311\\site-packages\\pandas\\core\\internals\\managers.py:1431\u001b[0m, in \u001b[0;36mBlockManager.grouped_reduce\u001b[1;34m(self, func)\u001b[0m\n\u001b[0;32m   1429\u001b[0m             result_blocks \u001b[38;5;241m=\u001b[39m extend_blocks(applied, result_blocks)\n\u001b[0;32m   1430\u001b[0m     \u001b[38;5;28;01melse\u001b[39;00m:\n\u001b[1;32m-> 1431\u001b[0m         applied \u001b[38;5;241m=\u001b[39m blk\u001b[38;5;241m.\u001b[39mapply(func)\n\u001b[0;32m   1432\u001b[0m         result_blocks \u001b[38;5;241m=\u001b[39m extend_blocks(applied, result_blocks)\n\u001b[0;32m   1434\u001b[0m \u001b[38;5;28;01mif\u001b[39;00m \u001b[38;5;28mlen\u001b[39m(result_blocks) \u001b[38;5;241m==\u001b[39m \u001b[38;5;241m0\u001b[39m:\n",
      "File \u001b[1;32m~\\AppData\\Roaming\\Python\\Python311\\site-packages\\pandas\\core\\internals\\blocks.py:366\u001b[0m, in \u001b[0;36mBlock.apply\u001b[1;34m(self, func, **kwargs)\u001b[0m\n\u001b[0;32m    360\u001b[0m \u001b[38;5;129m@final\u001b[39m\n\u001b[0;32m    361\u001b[0m \u001b[38;5;28;01mdef\u001b[39;00m \u001b[38;5;21mapply\u001b[39m(\u001b[38;5;28mself\u001b[39m, func, \u001b[38;5;241m*\u001b[39m\u001b[38;5;241m*\u001b[39mkwargs) \u001b[38;5;241m-\u001b[39m\u001b[38;5;241m>\u001b[39m \u001b[38;5;28mlist\u001b[39m[Block]:\n\u001b[0;32m    362\u001b[0m \u001b[38;5;250m    \u001b[39m\u001b[38;5;124;03m\"\"\"\u001b[39;00m\n\u001b[0;32m    363\u001b[0m \u001b[38;5;124;03m    apply the function to my values; return a block if we are not\u001b[39;00m\n\u001b[0;32m    364\u001b[0m \u001b[38;5;124;03m    one\u001b[39;00m\n\u001b[0;32m    365\u001b[0m \u001b[38;5;124;03m    \"\"\"\u001b[39;00m\n\u001b[1;32m--> 366\u001b[0m     result \u001b[38;5;241m=\u001b[39m func(\u001b[38;5;28mself\u001b[39m\u001b[38;5;241m.\u001b[39mvalues, \u001b[38;5;241m*\u001b[39m\u001b[38;5;241m*\u001b[39mkwargs)\n\u001b[0;32m    368\u001b[0m     result \u001b[38;5;241m=\u001b[39m maybe_coerce_values(result)\n\u001b[0;32m    369\u001b[0m     \u001b[38;5;28;01mreturn\u001b[39;00m \u001b[38;5;28mself\u001b[39m\u001b[38;5;241m.\u001b[39m_split_op_result(result)\n",
      "File \u001b[1;32m~\\AppData\\Roaming\\Python\\Python311\\site-packages\\pandas\\core\\groupby\\groupby.py:1902\u001b[0m, in \u001b[0;36mGroupBy._cython_agg_general.<locals>.array_func\u001b[1;34m(values)\u001b[0m\n\u001b[0;32m   1900\u001b[0m \u001b[38;5;28;01mdef\u001b[39;00m \u001b[38;5;21marray_func\u001b[39m(values: ArrayLike) \u001b[38;5;241m-\u001b[39m\u001b[38;5;241m>\u001b[39m ArrayLike:\n\u001b[0;32m   1901\u001b[0m     \u001b[38;5;28;01mtry\u001b[39;00m:\n\u001b[1;32m-> 1902\u001b[0m         result \u001b[38;5;241m=\u001b[39m \u001b[38;5;28mself\u001b[39m\u001b[38;5;241m.\u001b[39mgrouper\u001b[38;5;241m.\u001b[39m_cython_operation(\n\u001b[0;32m   1903\u001b[0m             \u001b[38;5;124m\"\u001b[39m\u001b[38;5;124maggregate\u001b[39m\u001b[38;5;124m\"\u001b[39m,\n\u001b[0;32m   1904\u001b[0m             values,\n\u001b[0;32m   1905\u001b[0m             how,\n\u001b[0;32m   1906\u001b[0m             axis\u001b[38;5;241m=\u001b[39mdata\u001b[38;5;241m.\u001b[39mndim \u001b[38;5;241m-\u001b[39m \u001b[38;5;241m1\u001b[39m,\n\u001b[0;32m   1907\u001b[0m             min_count\u001b[38;5;241m=\u001b[39mmin_count,\n\u001b[0;32m   1908\u001b[0m             \u001b[38;5;241m*\u001b[39m\u001b[38;5;241m*\u001b[39mkwargs,\n\u001b[0;32m   1909\u001b[0m         )\n\u001b[0;32m   1910\u001b[0m     \u001b[38;5;28;01mexcept\u001b[39;00m \u001b[38;5;167;01mNotImplementedError\u001b[39;00m:\n\u001b[0;32m   1911\u001b[0m         \u001b[38;5;66;03m# generally if we have numeric_only=False\u001b[39;00m\n\u001b[0;32m   1912\u001b[0m         \u001b[38;5;66;03m# and non-applicable functions\u001b[39;00m\n\u001b[0;32m   1913\u001b[0m         \u001b[38;5;66;03m# try to python agg\u001b[39;00m\n\u001b[0;32m   1914\u001b[0m         \u001b[38;5;66;03m# TODO: shouldn't min_count matter?\u001b[39;00m\n\u001b[0;32m   1915\u001b[0m         \u001b[38;5;66;03m# TODO: avoid special casing SparseArray here\u001b[39;00m\n\u001b[0;32m   1916\u001b[0m         \u001b[38;5;28;01mif\u001b[39;00m how \u001b[38;5;129;01min\u001b[39;00m [\u001b[38;5;124m\"\u001b[39m\u001b[38;5;124many\u001b[39m\u001b[38;5;124m\"\u001b[39m, \u001b[38;5;124m\"\u001b[39m\u001b[38;5;124mall\u001b[39m\u001b[38;5;124m\"\u001b[39m] \u001b[38;5;129;01mand\u001b[39;00m \u001b[38;5;28misinstance\u001b[39m(values, SparseArray):\n",
      "File \u001b[1;32m~\\AppData\\Roaming\\Python\\Python311\\site-packages\\pandas\\core\\groupby\\ops.py:815\u001b[0m, in \u001b[0;36mBaseGrouper._cython_operation\u001b[1;34m(self, kind, values, how, axis, min_count, **kwargs)\u001b[0m\n\u001b[0;32m    813\u001b[0m ids, _, _ \u001b[38;5;241m=\u001b[39m \u001b[38;5;28mself\u001b[39m\u001b[38;5;241m.\u001b[39mgroup_info\n\u001b[0;32m    814\u001b[0m ngroups \u001b[38;5;241m=\u001b[39m \u001b[38;5;28mself\u001b[39m\u001b[38;5;241m.\u001b[39mngroups\n\u001b[1;32m--> 815\u001b[0m \u001b[38;5;28;01mreturn\u001b[39;00m cy_op\u001b[38;5;241m.\u001b[39mcython_operation(\n\u001b[0;32m    816\u001b[0m     values\u001b[38;5;241m=\u001b[39mvalues,\n\u001b[0;32m    817\u001b[0m     axis\u001b[38;5;241m=\u001b[39maxis,\n\u001b[0;32m    818\u001b[0m     min_count\u001b[38;5;241m=\u001b[39mmin_count,\n\u001b[0;32m    819\u001b[0m     comp_ids\u001b[38;5;241m=\u001b[39mids,\n\u001b[0;32m    820\u001b[0m     ngroups\u001b[38;5;241m=\u001b[39mngroups,\n\u001b[0;32m    821\u001b[0m     \u001b[38;5;241m*\u001b[39m\u001b[38;5;241m*\u001b[39mkwargs,\n\u001b[0;32m    822\u001b[0m )\n",
      "File \u001b[1;32m~\\AppData\\Roaming\\Python\\Python311\\site-packages\\pandas\\core\\groupby\\ops.py:525\u001b[0m, in \u001b[0;36mWrappedCythonOp.cython_operation\u001b[1;34m(self, values, axis, min_count, comp_ids, ngroups, **kwargs)\u001b[0m\n\u001b[0;32m    521\u001b[0m \u001b[38;5;28mself\u001b[39m\u001b[38;5;241m.\u001b[39m_validate_axis(axis, values)\n\u001b[0;32m    523\u001b[0m \u001b[38;5;28;01mif\u001b[39;00m \u001b[38;5;129;01mnot\u001b[39;00m \u001b[38;5;28misinstance\u001b[39m(values, np\u001b[38;5;241m.\u001b[39mndarray):\n\u001b[0;32m    524\u001b[0m     \u001b[38;5;66;03m# i.e. ExtensionArray\u001b[39;00m\n\u001b[1;32m--> 525\u001b[0m     \u001b[38;5;28;01mreturn\u001b[39;00m values\u001b[38;5;241m.\u001b[39m_groupby_op(\n\u001b[0;32m    526\u001b[0m         how\u001b[38;5;241m=\u001b[39m\u001b[38;5;28mself\u001b[39m\u001b[38;5;241m.\u001b[39mhow,\n\u001b[0;32m    527\u001b[0m         has_dropped_na\u001b[38;5;241m=\u001b[39m\u001b[38;5;28mself\u001b[39m\u001b[38;5;241m.\u001b[39mhas_dropped_na,\n\u001b[0;32m    528\u001b[0m         min_count\u001b[38;5;241m=\u001b[39mmin_count,\n\u001b[0;32m    529\u001b[0m         ngroups\u001b[38;5;241m=\u001b[39mngroups,\n\u001b[0;32m    530\u001b[0m         ids\u001b[38;5;241m=\u001b[39mcomp_ids,\n\u001b[0;32m    531\u001b[0m         \u001b[38;5;241m*\u001b[39m\u001b[38;5;241m*\u001b[39mkwargs,\n\u001b[0;32m    532\u001b[0m     )\n\u001b[0;32m    534\u001b[0m \u001b[38;5;28;01mreturn\u001b[39;00m \u001b[38;5;28mself\u001b[39m\u001b[38;5;241m.\u001b[39m_cython_op_ndim_compat(\n\u001b[0;32m    535\u001b[0m     values,\n\u001b[0;32m    536\u001b[0m     min_count\u001b[38;5;241m=\u001b[39mmin_count,\n\u001b[1;32m   (...)\u001b[0m\n\u001b[0;32m    540\u001b[0m     \u001b[38;5;241m*\u001b[39m\u001b[38;5;241m*\u001b[39mkwargs,\n\u001b[0;32m    541\u001b[0m )\n",
      "File \u001b[1;32m~\\AppData\\Roaming\\Python\\Python311\\site-packages\\pandas\\core\\arrays\\datetimelike.py:1637\u001b[0m, in \u001b[0;36mDatetimeLikeArrayMixin._groupby_op\u001b[1;34m(self, how, has_dropped_na, min_count, ngroups, ids, **kwargs)\u001b[0m\n\u001b[0;32m   1634\u001b[0m \u001b[38;5;28;01mif\u001b[39;00m dtype\u001b[38;5;241m.\u001b[39mkind \u001b[38;5;241m==\u001b[39m \u001b[38;5;124m\"\u001b[39m\u001b[38;5;124mM\u001b[39m\u001b[38;5;124m\"\u001b[39m:\n\u001b[0;32m   1635\u001b[0m     \u001b[38;5;66;03m# Adding/multiplying datetimes is not valid\u001b[39;00m\n\u001b[0;32m   1636\u001b[0m     \u001b[38;5;28;01mif\u001b[39;00m how \u001b[38;5;129;01min\u001b[39;00m [\u001b[38;5;124m\"\u001b[39m\u001b[38;5;124msum\u001b[39m\u001b[38;5;124m\"\u001b[39m, \u001b[38;5;124m\"\u001b[39m\u001b[38;5;124mprod\u001b[39m\u001b[38;5;124m\"\u001b[39m, \u001b[38;5;124m\"\u001b[39m\u001b[38;5;124mcumsum\u001b[39m\u001b[38;5;124m\"\u001b[39m, \u001b[38;5;124m\"\u001b[39m\u001b[38;5;124mcumprod\u001b[39m\u001b[38;5;124m\"\u001b[39m, \u001b[38;5;124m\"\u001b[39m\u001b[38;5;124mvar\u001b[39m\u001b[38;5;124m\"\u001b[39m, \u001b[38;5;124m\"\u001b[39m\u001b[38;5;124mskew\u001b[39m\u001b[38;5;124m\"\u001b[39m]:\n\u001b[1;32m-> 1637\u001b[0m         \u001b[38;5;28;01mraise\u001b[39;00m \u001b[38;5;167;01mTypeError\u001b[39;00m(\u001b[38;5;124mf\u001b[39m\u001b[38;5;124m\"\u001b[39m\u001b[38;5;124mdatetime64 type does not support \u001b[39m\u001b[38;5;132;01m{\u001b[39;00mhow\u001b[38;5;132;01m}\u001b[39;00m\u001b[38;5;124m operations\u001b[39m\u001b[38;5;124m\"\u001b[39m)\n\u001b[0;32m   1638\u001b[0m     \u001b[38;5;28;01mif\u001b[39;00m how \u001b[38;5;129;01min\u001b[39;00m [\u001b[38;5;124m\"\u001b[39m\u001b[38;5;124many\u001b[39m\u001b[38;5;124m\"\u001b[39m, \u001b[38;5;124m\"\u001b[39m\u001b[38;5;124mall\u001b[39m\u001b[38;5;124m\"\u001b[39m]:\n\u001b[0;32m   1639\u001b[0m         \u001b[38;5;66;03m# GH#34479\u001b[39;00m\n\u001b[0;32m   1640\u001b[0m         warnings\u001b[38;5;241m.\u001b[39mwarn(\n\u001b[0;32m   1641\u001b[0m             \u001b[38;5;124mf\u001b[39m\u001b[38;5;124m\"\u001b[39m\u001b[38;5;124m'\u001b[39m\u001b[38;5;132;01m{\u001b[39;00mhow\u001b[38;5;132;01m}\u001b[39;00m\u001b[38;5;124m'\u001b[39m\u001b[38;5;124m with datetime64 dtypes is deprecated and will raise in a \u001b[39m\u001b[38;5;124m\"\u001b[39m\n\u001b[0;32m   1642\u001b[0m             \u001b[38;5;124mf\u001b[39m\u001b[38;5;124m\"\u001b[39m\u001b[38;5;124mfuture version. Use (obj != pd.Timestamp(0)).\u001b[39m\u001b[38;5;132;01m{\u001b[39;00mhow\u001b[38;5;132;01m}\u001b[39;00m\u001b[38;5;124m() instead.\u001b[39m\u001b[38;5;124m\"\u001b[39m,\n\u001b[0;32m   1643\u001b[0m             \u001b[38;5;167;01mFutureWarning\u001b[39;00m,\n\u001b[0;32m   1644\u001b[0m             stacklevel\u001b[38;5;241m=\u001b[39mfind_stack_level(),\n\u001b[0;32m   1645\u001b[0m         )\n",
      "\u001b[1;31mTypeError\u001b[0m: datetime64 type does not support sum operations"
     ]
    }
   ],
   "source": [
    "df.groupby('subject').sum()['num_subscribers']"
   ]
  },
  {
   "cell_type": "code",
   "execution_count": null,
   "id": "a7c36e65",
   "metadata": {},
   "outputs": [],
   "source": [
    "pip install nbformat==5.1.2"
   ]
  },
  {
   "cell_type": "markdown",
   "id": "d5584fc4",
   "metadata": {},
   "source": [
    "##### VISUALIZATION Using Plotly"
   ]
  },
  {
   "cell_type": "code",
   "execution_count": null,
   "id": "97055917",
   "metadata": {},
   "outputs": [],
   "source": [
    "fig = px.bar(data_frame = df,\n",
    "       x = df.groupby('subject').sum()['num_subscribers'].index,\n",
    "       y = df.groupby('subject').sum()['num_subscribers'].values)\n",
    "fig.update_xaxes(title = 'Subject')\n",
    "fig.update_yaxes(title = '# Subscribers')\n",
    "fig.show()"
   ]
  },
  {
   "cell_type": "markdown",
   "id": "a9bf9029",
   "metadata": {},
   "source": [
    "#### B. Profit per each subject?"
   ]
  },
  {
   "cell_type": "code",
   "execution_count": null,
   "id": "7045fd55",
   "metadata": {},
   "outputs": [],
   "source": [
    "dict(df.groupby('subject').sum()['Profit'])\n",
    "                                "
   ]
  },
  {
   "cell_type": "markdown",
   "id": "40728c98",
   "metadata": {},
   "source": [
    "##### VISUALIZATION using Seaborn."
   ]
  },
  {
   "cell_type": "code",
   "execution_count": null,
   "id": "e7e0dbc7",
   "metadata": {},
   "outputs": [],
   "source": [
    "plt.figure(figsize =(15,8))\n",
    "plt.xticks(rotation = 45)\n",
    "sns.barplot(data = df,\n",
    "           x = df.groupby('subject').sum()['Profit'].index,\n",
    "           y = df.groupby('subject').sum()['Profit'].values,\n",
    "           palette = 'plasma')\n"
   ]
  },
  {
   "cell_type": "markdown",
   "id": "0be3134f",
   "metadata": {},
   "source": [
    "#### B. How many paid an non-paid in each subject? "
   ]
  },
  {
   "cell_type": "code",
   "execution_count": null,
   "id": "96b3df69",
   "metadata": {},
   "outputs": [],
   "source": [
    "df.groupby('subject').sum()['is_paid']"
   ]
  },
  {
   "cell_type": "code",
   "execution_count": null,
   "id": "90aa2805",
   "metadata": {},
   "outputs": [],
   "source": [
    "#unpaid courses\n",
    "df[df['is_paid'] == False]['subject'].value_counts().plot(kind = 'bar')"
   ]
  },
  {
   "cell_type": "code",
   "execution_count": null,
   "id": "8ed85bb1",
   "metadata": {},
   "outputs": [],
   "source": [
    "#Paid courses\n",
    "df[df['is_paid'] == True]['subject'].value_counts().plot(kind = 'bar')"
   ]
  },
  {
   "cell_type": "markdown",
   "id": "81b75671",
   "metadata": {},
   "source": [
    "### 3) Multi-variate Analysis (subject)"
   ]
  },
  {
   "cell_type": "markdown",
   "id": "26343835",
   "metadata": {},
   "source": [
    "#### A. How many courses in each subject according to is_paid?"
   ]
  },
  {
   "cell_type": "markdown",
   "id": "5bed2ba4",
   "metadata": {},
   "source": [
    "#### using Plotly"
   ]
  },
  {
   "cell_type": "code",
   "execution_count": null,
   "id": "84b26052",
   "metadata": {},
   "outputs": [],
   "source": [
    "fig = px.bar(data_frame = df,\n",
    "       x = df['subject'],\n",
    "     color = df['is_paid'])\n",
    "fig.update_xaxes(title = 'Subject')\n",
    "fig.update_yaxes(title = '# Courses')\n",
    "fig.show()"
   ]
  },
  {
   "cell_type": "markdown",
   "id": "9c7bec92",
   "metadata": {},
   "source": [
    "#### B. How many courses in each subject according to Price_category?"
   ]
  },
  {
   "cell_type": "markdown",
   "id": "f4377971",
   "metadata": {},
   "source": [
    "#### using Seaborn"
   ]
  },
  {
   "cell_type": "code",
   "execution_count": null,
   "id": "ed79e606",
   "metadata": {},
   "outputs": [],
   "source": [
    "plt.figure(figsize = (18,5))\n",
    "plt.xticks(rotation = 45)\n",
    "sns.countplot(data = df, x = df['subject'], hue = df['Price_Category'])"
   ]
  },
  {
   "cell_type": "markdown",
   "id": "c957c5c7",
   "metadata": {},
   "source": [
    "#### C. How many courses in each subject according to Price_category?"
   ]
  },
  {
   "cell_type": "markdown",
   "id": "7546740d",
   "metadata": {},
   "source": [
    "#### using Seaborn"
   ]
  },
  {
   "cell_type": "code",
   "execution_count": null,
   "id": "2674e4ac",
   "metadata": {},
   "outputs": [],
   "source": [
    "plt.figure(figsize = (18,5))\n",
    "plt.xticks(rotation = 45)\n",
    "sns.countplot(data = df, x = df['subject'], hue = df['Duration_category'])"
   ]
  },
  {
   "cell_type": "markdown",
   "id": "04d591ff",
   "metadata": {},
   "source": [
    "#### D. How many courses in each subject according to level?"
   ]
  },
  {
   "cell_type": "markdown",
   "id": "0c289f86",
   "metadata": {},
   "source": [
    "#### using Seaborn"
   ]
  },
  {
   "cell_type": "code",
   "execution_count": null,
   "id": "a184141b",
   "metadata": {},
   "outputs": [],
   "source": [
    "plt.figure(figsize = (18,5))\n",
    "plt.xticks(rotation = 45)\n",
    "sns.countplot(data = df, x = df['subject'], hue = df['level'])"
   ]
  },
  {
   "cell_type": "markdown",
   "id": "f06a5673",
   "metadata": {},
   "source": [
    "#### E. In each year what is the total profit made by each subject?"
   ]
  },
  {
   "cell_type": "code",
   "execution_count": null,
   "id": "a391aaee",
   "metadata": {},
   "outputs": [],
   "source": [
    "df.groupby(['Year','subject'],as_index=False)['Profit'].sum()"
   ]
  },
  {
   "cell_type": "code",
   "execution_count": null,
   "id": "422b8d1c",
   "metadata": {},
   "outputs": [],
   "source": [
    "plt.figure(figsize=(15,8))\n",
    "sns.barplot(data=df,x='subject',y='Profit',hue='Year')"
   ]
  },
  {
   "cell_type": "code",
   "execution_count": null,
   "id": "d448bdff",
   "metadata": {},
   "outputs": [],
   "source": [
    "px.pie(data_frame=df, names='subject', values='Profit', color='Year')"
   ]
  },
  {
   "cell_type": "markdown",
   "id": "6a49fda7",
   "metadata": {},
   "source": [
    "##### F. Regarding price category, what is the total profit made by each subject?"
   ]
  },
  {
   "cell_type": "code",
   "execution_count": null,
   "id": "98d785de",
   "metadata": {},
   "outputs": [],
   "source": [
    "plt.figure(figsize=(15,8))\n",
    "sns.barplot(data=df,x='subject',y='Profit',hue='Price_Category')"
   ]
  },
  {
   "cell_type": "markdown",
   "id": "5eea59b0",
   "metadata": {},
   "source": [
    "##### G. Regarding duration category, what is the total profit made by each subject?"
   ]
  },
  {
   "cell_type": "code",
   "execution_count": null,
   "id": "afb9aa70",
   "metadata": {},
   "outputs": [],
   "source": [
    "plt.figure(figsize=(15,8))\n",
    "sns.barplot(data=df,x='subject',y='Profit',hue='Duration_category')"
   ]
  },
  {
   "cell_type": "markdown",
   "id": "559ac4c1",
   "metadata": {},
   "source": [
    "##### H. Regarding level, what is the total profit made by each subject?"
   ]
  },
  {
   "cell_type": "code",
   "execution_count": null,
   "id": "8f3f4f35",
   "metadata": {},
   "outputs": [],
   "source": [
    "plt.figure(figsize=(15,8))\n",
    "sns.barplot(data=df,x='subject',y='Profit',hue='level')"
   ]
  },
  {
   "cell_type": "markdown",
   "id": "b1488ed1",
   "metadata": {},
   "source": [
    "##### I. Regarding each year, how many subscribers in each subject?"
   ]
  },
  {
   "cell_type": "code",
   "execution_count": null,
   "id": "312af2a6",
   "metadata": {},
   "outputs": [],
   "source": [
    "plt.figure(figsize=(15,8))\n",
    "sns.barplot(data=df,x='subject',y='num_subscribers',hue='Year')"
   ]
  },
  {
   "cell_type": "markdown",
   "id": "f9beb8c5",
   "metadata": {},
   "source": [
    "##### J. Regarding price category, how many subscribers in each subject?"
   ]
  },
  {
   "cell_type": "code",
   "execution_count": null,
   "id": "d31ee683",
   "metadata": {},
   "outputs": [],
   "source": [
    "plt.figure(figsize=(15,8))\n",
    "sns.barplot(data=df,x='subject',y='num_subscribers',hue='Price_Category')"
   ]
  },
  {
   "cell_type": "markdown",
   "id": "a00f3705",
   "metadata": {},
   "source": [
    "##### K. Regarding duration category, how many subscribers in each subject?"
   ]
  },
  {
   "cell_type": "code",
   "execution_count": null,
   "id": "70e65a6c",
   "metadata": {},
   "outputs": [],
   "source": [
    "plt.figure(figsize=(15,8))\n",
    "sns.barplot(data=df,x='subject',y='num_subscribers',hue='Duration_category')"
   ]
  },
  {
   "cell_type": "markdown",
   "id": "1d621106",
   "metadata": {},
   "source": [
    "##### L. Regarding level, how many subscribers in each subject?"
   ]
  },
  {
   "cell_type": "code",
   "execution_count": null,
   "id": "f6970a00",
   "metadata": {},
   "outputs": [],
   "source": [
    "\n",
    "plt.figure(figsize=(15,8))\n",
    "sns.barplot(data=df,x='subject',y='num_subscribers',hue='level')"
   ]
  },
  {
   "cell_type": "code",
   "execution_count": null,
   "id": "2c3456d6",
   "metadata": {},
   "outputs": [],
   "source": [
    "df['Profit'].describe()"
   ]
  },
  {
   "cell_type": "markdown",
   "id": "110e1f10",
   "metadata": {},
   "source": [
    "## Time Series Analysis"
   ]
  },
  {
   "cell_type": "markdown",
   "id": "44d3bac8",
   "metadata": {},
   "source": [
    "### published_timestamp"
   ]
  },
  {
   "cell_type": "code",
   "execution_count": null,
   "id": "aa5d87d1",
   "metadata": {},
   "outputs": [],
   "source": [
    "df.sample(2)"
   ]
  },
  {
   "cell_type": "code",
   "execution_count": null,
   "id": "9b2725c4",
   "metadata": {},
   "outputs": [],
   "source": [
    "df.index"
   ]
  },
  {
   "cell_type": "code",
   "execution_count": null,
   "id": "834e3ef3",
   "metadata": {
    "scrolled": true
   },
   "outputs": [],
   "source": [
    "df.loc['2017'].head(2)"
   ]
  },
  {
   "cell_type": "code",
   "execution_count": null,
   "id": "0289dc97",
   "metadata": {},
   "outputs": [],
   "source": [
    "df.index.year"
   ]
  },
  {
   "cell_type": "code",
   "execution_count": null,
   "id": "273d64a4",
   "metadata": {},
   "outputs": [],
   "source": [
    "df.loc['2017-1-24' : '2017-1-25']"
   ]
  },
  {
   "cell_type": "markdown",
   "id": "1319ea95",
   "metadata": {},
   "source": [
    "### Profit"
   ]
  },
  {
   "cell_type": "markdown",
   "id": "b37bf952",
   "metadata": {},
   "source": [
    "##### What is the total profit in each year?"
   ]
  },
  {
   "cell_type": "code",
   "execution_count": null,
   "id": "25675ed9",
   "metadata": {},
   "outputs": [],
   "source": [
    "df.resample(\"Y\").sum()['Profit']"
   ]
  },
  {
   "cell_type": "code",
   "execution_count": null,
   "id": "4cf86c2a",
   "metadata": {},
   "outputs": [],
   "source": [
    "plt.figure(figsize=(15,8))\n",
    "plt.xticks(rotation=45)\n",
    "sns.barplot(x=df.resample(\"Y\").sum()['Profit'].index.year,\n",
    "           y=df.resample(\"Y\").sum()['Profit'].values)"
   ]
  },
  {
   "cell_type": "code",
   "execution_count": null,
   "id": "7d0e4085",
   "metadata": {},
   "outputs": [],
   "source": [
    "df.index.month_name()"
   ]
  },
  {
   "cell_type": "code",
   "execution_count": null,
   "id": "67712ebe",
   "metadata": {},
   "outputs": [],
   "source": [
    "df.index.year"
   ]
  },
  {
   "cell_type": "code",
   "execution_count": null,
   "id": "22338c84",
   "metadata": {},
   "outputs": [],
   "source": [
    "plt.figure(figsize=(15,8))\n",
    "plt.xticks(rotation=45)\n",
    "sns.lineplot(x = df.loc['2013'].resample(\"MS\").sum()['Profit'].index.month_name(),\n",
    "            y = df.loc['2013'].resample(\"MS\").sum()['Profit'].values)"
   ]
  },
  {
   "cell_type": "code",
   "execution_count": null,
   "id": "573e24bf",
   "metadata": {},
   "outputs": [],
   "source": [
    "df.to_csv('Udemy-courses-cleaned.csv')"
   ]
  },
  {
   "cell_type": "code",
   "execution_count": null,
   "id": "83af846e",
   "metadata": {},
   "outputs": [],
   "source": [
    "!pip install pandas-profiling"
   ]
  },
  {
   "cell_type": "code",
   "execution_count": null,
   "id": "5f191bc8",
   "metadata": {},
   "outputs": [],
   "source": [
    "from ydata_profiling import ProfileReport"
   ]
  },
  {
   "cell_type": "code",
   "execution_count": null,
   "id": "6e8c67c5",
   "metadata": {},
   "outputs": [],
   "source": [
    "from ydata_profiling import ProfileReport\n"
   ]
  },
  {
   "cell_type": "code",
   "execution_count": null,
   "id": "543c2dae",
   "metadata": {},
   "outputs": [],
   "source": [
    "pandas version\n"
   ]
  },
  {
   "cell_type": "code",
   "execution_count": null,
   "id": "47e39685",
   "metadata": {},
   "outputs": [],
   "source": [
    "from platform import python_version\n",
    "\n",
    "print(python_version())"
   ]
  },
  {
   "cell_type": "code",
   "execution_count": null,
   "id": "b55cade5",
   "metadata": {},
   "outputs": [],
   "source": []
  }
 ],
 "metadata": {
  "kernelspec": {
   "display_name": "Python 3 (ipykernel)",
   "language": "python",
   "name": "python3"
  },
  "language_info": {
   "codemirror_mode": {
    "name": "ipython",
    "version": 3
   },
   "file_extension": ".py",
   "mimetype": "text/x-python",
   "name": "python",
   "nbconvert_exporter": "python",
   "pygments_lexer": "ipython3",
   "version": "3.11.5"
  }
 },
 "nbformat": 4,
 "nbformat_minor": 5
}
